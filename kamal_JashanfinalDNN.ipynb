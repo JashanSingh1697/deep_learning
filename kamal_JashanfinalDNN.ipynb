{
 "cells": [
  {
   "cell_type": "code",
   "execution_count": 1,
   "id": "7f76bd7e",
   "metadata": {},
   "outputs": [],
   "source": [
    "import numpy as np\n",
    "import matplotlib.pyplot as plt\n",
    "import pandas as pd\n",
    "import os\n",
    "from tensorflow.keras.preprocessing.image import load_img, img_to_array\n",
    "from PIL import Image, UnidentifiedImageError\n",
    "from sklearn.preprocessing import LabelEncoder\n",
    "import seaborn as sns"
   ]
  },
  {
   "cell_type": "code",
   "execution_count": 2,
   "id": "5bee22b7",
   "metadata": {},
   "outputs": [],
   "source": [
    "df = pd.read_json('photos.json', lines=True)"
   ]
  },
  {
   "cell_type": "code",
   "execution_count": 3,
   "id": "ed0686b1",
   "metadata": {},
   "outputs": [
    {
     "data": {
      "text/html": [
       "<div>\n",
       "<style scoped>\n",
       "    .dataframe tbody tr th:only-of-type {\n",
       "        vertical-align: middle;\n",
       "    }\n",
       "\n",
       "    .dataframe tbody tr th {\n",
       "        vertical-align: top;\n",
       "    }\n",
       "\n",
       "    .dataframe thead th {\n",
       "        text-align: right;\n",
       "    }\n",
       "</style>\n",
       "<table border=\"1\" class=\"dataframe\">\n",
       "  <thead>\n",
       "    <tr style=\"text-align: right;\">\n",
       "      <th></th>\n",
       "      <th>photo_id</th>\n",
       "      <th>business_id</th>\n",
       "      <th>caption</th>\n",
       "      <th>label</th>\n",
       "    </tr>\n",
       "  </thead>\n",
       "  <tbody>\n",
       "    <tr>\n",
       "      <th>0</th>\n",
       "      <td>zsvj7vloL4L5jhYyPIuVwg</td>\n",
       "      <td>Nk-SJhPlDBkAZvfsADtccA</td>\n",
       "      <td>Nice rock artwork everywhere and craploads of ...</td>\n",
       "      <td>inside</td>\n",
       "    </tr>\n",
       "    <tr>\n",
       "      <th>1</th>\n",
       "      <td>HCUdRJHHm_e0OCTlZetGLg</td>\n",
       "      <td>yVZtL5MmrpiivyCIrVkGgA</td>\n",
       "      <td></td>\n",
       "      <td>outside</td>\n",
       "    </tr>\n",
       "    <tr>\n",
       "      <th>2</th>\n",
       "      <td>vkr8T0scuJmGVvN2HJelEA</td>\n",
       "      <td>_ab50qdWOk0DdB6XOrBitw</td>\n",
       "      <td>oyster shooter</td>\n",
       "      <td>drink</td>\n",
       "    </tr>\n",
       "    <tr>\n",
       "      <th>3</th>\n",
       "      <td>pve7D6NUrafHW3EAORubyw</td>\n",
       "      <td>SZU9c8V2GuREDN5KgyHFJw</td>\n",
       "      <td>Shrimp scampi</td>\n",
       "      <td>food</td>\n",
       "    </tr>\n",
       "    <tr>\n",
       "      <th>4</th>\n",
       "      <td>H52Er-uBg6rNrHcReWTD2w</td>\n",
       "      <td>Gzur0f0XMkrVxIwYJvOt2g</td>\n",
       "      <td></td>\n",
       "      <td>food</td>\n",
       "    </tr>\n",
       "  </tbody>\n",
       "</table>\n",
       "</div>"
      ],
      "text/plain": [
       "                 photo_id             business_id  \\\n",
       "0  zsvj7vloL4L5jhYyPIuVwg  Nk-SJhPlDBkAZvfsADtccA   \n",
       "1  HCUdRJHHm_e0OCTlZetGLg  yVZtL5MmrpiivyCIrVkGgA   \n",
       "2  vkr8T0scuJmGVvN2HJelEA  _ab50qdWOk0DdB6XOrBitw   \n",
       "3  pve7D6NUrafHW3EAORubyw  SZU9c8V2GuREDN5KgyHFJw   \n",
       "4  H52Er-uBg6rNrHcReWTD2w  Gzur0f0XMkrVxIwYJvOt2g   \n",
       "\n",
       "                                             caption    label  \n",
       "0  Nice rock artwork everywhere and craploads of ...   inside  \n",
       "1                                                     outside  \n",
       "2                                     oyster shooter    drink  \n",
       "3                                      Shrimp scampi     food  \n",
       "4                                                        food  "
      ]
     },
     "execution_count": 3,
     "metadata": {},
     "output_type": "execute_result"
    }
   ],
   "source": [
    "df.head(5)"
   ]
  },
  {
   "cell_type": "markdown",
   "id": "7a0ac5ba",
   "metadata": {},
   "source": [
    "As we can see above we have total of 5 labels or in other words we have 5 classes to predict.\n",
    "Lets take deeper look at the 5 classes"
   ]
  },
  {
   "cell_type": "code",
   "execution_count": 4,
   "id": "dab8046b",
   "metadata": {},
   "outputs": [
    {
     "data": {
      "text/plain": [
       "0"
      ]
     },
     "execution_count": 4,
     "metadata": {},
     "output_type": "execute_result"
    }
   ],
   "source": [
    "df['label'].isnull().sum()      # checking if we have null values in label"
   ]
  },
  {
   "cell_type": "code",
   "execution_count": 5,
   "id": "6960b804",
   "metadata": {},
   "outputs": [
    {
     "data": {
      "text/plain": [
       "array(['inside', 'outside', 'drink', 'food', 'menu'], dtype=object)"
      ]
     },
     "execution_count": 5,
     "metadata": {},
     "output_type": "execute_result"
    }
   ],
   "source": [
    "df['label'].unique()   # looking at all the classes"
   ]
  },
  {
   "cell_type": "markdown",
   "id": "b10f8230",
   "metadata": {},
   "source": [
    "Before we move forward we need to convert the string to interger in the label column"
   ]
  },
  {
   "cell_type": "code",
   "execution_count": 6,
   "id": "d61d6d24",
   "metadata": {},
   "outputs": [],
   "source": [
    "label_encoder = LabelEncoder()\n",
    "df['encoded_label'] = label_encoder.fit_transform(df['label'])"
   ]
  },
  {
   "cell_type": "code",
   "execution_count": 7,
   "id": "bf6bca2c",
   "metadata": {},
   "outputs": [
    {
     "data": {
      "text/html": [
       "<div>\n",
       "<style scoped>\n",
       "    .dataframe tbody tr th:only-of-type {\n",
       "        vertical-align: middle;\n",
       "    }\n",
       "\n",
       "    .dataframe tbody tr th {\n",
       "        vertical-align: top;\n",
       "    }\n",
       "\n",
       "    .dataframe thead th {\n",
       "        text-align: right;\n",
       "    }\n",
       "</style>\n",
       "<table border=\"1\" class=\"dataframe\">\n",
       "  <thead>\n",
       "    <tr style=\"text-align: right;\">\n",
       "      <th></th>\n",
       "      <th>photo_id</th>\n",
       "      <th>business_id</th>\n",
       "      <th>caption</th>\n",
       "      <th>label</th>\n",
       "      <th>encoded_label</th>\n",
       "    </tr>\n",
       "  </thead>\n",
       "  <tbody>\n",
       "    <tr>\n",
       "      <th>0</th>\n",
       "      <td>zsvj7vloL4L5jhYyPIuVwg</td>\n",
       "      <td>Nk-SJhPlDBkAZvfsADtccA</td>\n",
       "      <td>Nice rock artwork everywhere and craploads of ...</td>\n",
       "      <td>inside</td>\n",
       "      <td>2</td>\n",
       "    </tr>\n",
       "    <tr>\n",
       "      <th>1</th>\n",
       "      <td>HCUdRJHHm_e0OCTlZetGLg</td>\n",
       "      <td>yVZtL5MmrpiivyCIrVkGgA</td>\n",
       "      <td></td>\n",
       "      <td>outside</td>\n",
       "      <td>4</td>\n",
       "    </tr>\n",
       "    <tr>\n",
       "      <th>2</th>\n",
       "      <td>vkr8T0scuJmGVvN2HJelEA</td>\n",
       "      <td>_ab50qdWOk0DdB6XOrBitw</td>\n",
       "      <td>oyster shooter</td>\n",
       "      <td>drink</td>\n",
       "      <td>0</td>\n",
       "    </tr>\n",
       "    <tr>\n",
       "      <th>3</th>\n",
       "      <td>pve7D6NUrafHW3EAORubyw</td>\n",
       "      <td>SZU9c8V2GuREDN5KgyHFJw</td>\n",
       "      <td>Shrimp scampi</td>\n",
       "      <td>food</td>\n",
       "      <td>1</td>\n",
       "    </tr>\n",
       "    <tr>\n",
       "      <th>4</th>\n",
       "      <td>H52Er-uBg6rNrHcReWTD2w</td>\n",
       "      <td>Gzur0f0XMkrVxIwYJvOt2g</td>\n",
       "      <td></td>\n",
       "      <td>food</td>\n",
       "      <td>1</td>\n",
       "    </tr>\n",
       "  </tbody>\n",
       "</table>\n",
       "</div>"
      ],
      "text/plain": [
       "                 photo_id             business_id  \\\n",
       "0  zsvj7vloL4L5jhYyPIuVwg  Nk-SJhPlDBkAZvfsADtccA   \n",
       "1  HCUdRJHHm_e0OCTlZetGLg  yVZtL5MmrpiivyCIrVkGgA   \n",
       "2  vkr8T0scuJmGVvN2HJelEA  _ab50qdWOk0DdB6XOrBitw   \n",
       "3  pve7D6NUrafHW3EAORubyw  SZU9c8V2GuREDN5KgyHFJw   \n",
       "4  H52Er-uBg6rNrHcReWTD2w  Gzur0f0XMkrVxIwYJvOt2g   \n",
       "\n",
       "                                             caption    label  encoded_label  \n",
       "0  Nice rock artwork everywhere and craploads of ...   inside              2  \n",
       "1                                                     outside              4  \n",
       "2                                     oyster shooter    drink              0  \n",
       "3                                      Shrimp scampi     food              1  \n",
       "4                                                        food              1  "
      ]
     },
     "execution_count": 7,
     "metadata": {},
     "output_type": "execute_result"
    }
   ],
   "source": [
    "df.head()"
   ]
  },
  {
   "cell_type": "code",
   "execution_count": 8,
   "id": "2c18cd48",
   "metadata": {},
   "outputs": [],
   "source": [
    "from tensorflow.keras.preprocessing.image import load_img, img_to_array\n",
    "\n",
    "def load_images(data, image_folder):\n",
    "    images = []\n",
    "    labels = []\n",
    "    for index, row in data.iterrows():\n",
    "        if len(images) >= 5000:      \n",
    "            break\n",
    "        try:\n",
    "            photo_id = row['photo_id']\n",
    "            label = row['encoded_label']\n",
    "            image_path = os.path.join(image_folder, f\"{photo_id}.jpg\")\n",
    "            image = load_img(image_path, target_size=(128, 128))  # Resizing the image\n",
    "            image = img_to_array(image) / 255.0  # Normalizing the image\n",
    "            images.append(image)\n",
    "            labels.append(label)\n",
    "        except:\n",
    "            pass\n",
    "    return np.array(images), np.array(labels)\n",
    "\n",
    "image_folder = 'photos/'\n",
    "X, y = load_images(df, image_folder)"
   ]
  },
  {
   "cell_type": "markdown",
   "id": "d003b1d4",
   "metadata": {},
   "source": [
    "1. **Stratified Split of Data:** The code uses StratifiedShuffleSplit to divide the dataset into training and test sets, ensuring that both sets have the same class distribution, which is useful for handling imbalanced datasets. It splits 20% of the data for testing and repeats this process 1 times.\n",
    "\n",
    "2. **Class Distribution Check:** After splitting, the class distributions in both the training and test sets are verified using unique, confirming that the stratified split has maintained the same proportion of labels in both sets.\n"
   ]
  },
  {
   "cell_type": "code",
   "execution_count": 9,
   "id": "164829d2",
   "metadata": {},
   "outputs": [
    {
     "name": "stdout",
     "output_type": "stream",
     "text": [
      "Shape of X: (5000, 128, 128, 3)\n",
      "Shape of y: (5000,)\n"
     ]
    }
   ],
   "source": [
    "print(\"Shape of X:\", X.shape)\n",
    "print(\"Shape of y:\", y.shape)"
   ]
  },
  {
   "cell_type": "code",
   "execution_count": 10,
   "id": "c533255f",
   "metadata": {},
   "outputs": [
    {
     "name": "stdout",
     "output_type": "stream",
     "text": [
      "y array: [2 4 0 ... 2 0 1]\n",
      "Length of y: 5000\n"
     ]
    }
   ],
   "source": [
    "print(\"y array:\", y)\n",
    "print(\"Length of y:\", len(y))"
   ]
  },
  {
   "cell_type": "code",
   "execution_count": 11,
   "id": "f738d806",
   "metadata": {},
   "outputs": [],
   "source": [
    "from sklearn.model_selection import StratifiedShuffleSplit\n",
    "\n",
    "# StratifiedShuffleSplit object\n",
    "strat_split = StratifiedShuffleSplit(n_splits=1, test_size=0.2, random_state=42)\n",
    "\n",
    "# Perform stratified sampling\n",
    "for train_idx, test_idx in strat_split.split(X, y):\n",
    "    X_train, X_test = X[train_idx], X[test_idx]\n",
    "    y_train, y_test = y[train_idx], y[test_idx]"
   ]
  },
  {
   "cell_type": "code",
   "execution_count": 12,
   "id": "7b01d33b",
   "metadata": {},
   "outputs": [
    {
     "name": "stdout",
     "output_type": "stream",
     "text": [
      "Training set size: (4000, 128, 128, 3) (4000,)\n",
      "Test set size: (1000, 128, 128, 3) (1000,)\n",
      "Training set class distribution: {0: 337, 1: 2127, 2: 1138, 3: 32, 4: 366}\n",
      "Test set class distribution: {0: 84, 1: 532, 2: 285, 3: 8, 4: 91}\n"
     ]
    }
   ],
   "source": [
    "# Print the shape of the stratified train and test sets\n",
    "print(\"Training set size:\", X_train.shape, y_train.shape)\n",
    "print(\"Test set size:\", X_test.shape, y_test.shape)\n",
    "\n",
    "# checking if the classes are stratified properly\n",
    "unique, counts_train = np.unique(y_train, return_counts=True)\n",
    "unique, counts_test = np.unique(y_test, return_counts=True)\n",
    "print(\"Training set class distribution:\", dict(zip(unique, counts_train)))\n",
    "print(\"Test set class distribution:\", dict(zip(unique, counts_test)))"
   ]
  },
  {
   "cell_type": "markdown",
   "id": "958503b8",
   "metadata": {},
   "source": [
    "## Perform the DNN ##\n",
    "Build and Compile the DNN Model"
   ]
  },
  {
   "cell_type": "code",
   "execution_count": 13,
   "id": "cabfbc69",
   "metadata": {},
   "outputs": [],
   "source": [
    "from tensorflow.keras import Sequential\n",
    "from tensorflow.keras import layers  "
   ]
  },
  {
   "cell_type": "code",
   "execution_count": 14,
   "id": "142515ee",
   "metadata": {},
   "outputs": [
    {
     "name": "stdout",
     "output_type": "stream",
     "text": [
      "Created a Sequential Model with 8 layers.\n"
     ]
    },
    {
     "data": {
      "text/html": [
       "<pre style=\"white-space:pre;overflow-x:auto;line-height:normal;font-family:Menlo,'DejaVu Sans Mono',consolas,'Courier New',monospace\"><span style=\"font-weight: bold\">Model: \"sequential\"</span>\n",
       "</pre>\n"
      ],
      "text/plain": [
       "\u001b[1mModel: \"sequential\"\u001b[0m\n"
      ]
     },
     "metadata": {},
     "output_type": "display_data"
    },
    {
     "data": {
      "text/html": [
       "<pre style=\"white-space:pre;overflow-x:auto;line-height:normal;font-family:Menlo,'DejaVu Sans Mono',consolas,'Courier New',monospace\">┏━━━━━━━━━━━━━━━━━━━━━━━━━━━━━━━━━┳━━━━━━━━━━━━━━━━━━━━━━━━┳━━━━━━━━━━━━━━━┓\n",
       "┃<span style=\"font-weight: bold\"> Layer (type)                    </span>┃<span style=\"font-weight: bold\"> Output Shape           </span>┃<span style=\"font-weight: bold\">       Param # </span>┃\n",
       "┡━━━━━━━━━━━━━━━━━━━━━━━━━━━━━━━━━╇━━━━━━━━━━━━━━━━━━━━━━━━╇━━━━━━━━━━━━━━━┩\n",
       "│ hidden_layer_1 (<span style=\"color: #0087ff; text-decoration-color: #0087ff\">Dense</span>)          │ (<span style=\"color: #00d7ff; text-decoration-color: #00d7ff\">None</span>, <span style=\"color: #00af00; text-decoration-color: #00af00\">128</span>)            │         <span style=\"color: #00af00; text-decoration-color: #00af00\">1,408</span> │\n",
       "├─────────────────────────────────┼────────────────────────┼───────────────┤\n",
       "│ hidden_layer_2 (<span style=\"color: #0087ff; text-decoration-color: #0087ff\">Dense</span>)          │ (<span style=\"color: #00d7ff; text-decoration-color: #00d7ff\">None</span>, <span style=\"color: #00af00; text-decoration-color: #00af00\">64</span>)             │         <span style=\"color: #00af00; text-decoration-color: #00af00\">8,256</span> │\n",
       "├─────────────────────────────────┼────────────────────────┼───────────────┤\n",
       "│ hidden_layer_3 (<span style=\"color: #0087ff; text-decoration-color: #0087ff\">Dense</span>)          │ (<span style=\"color: #00d7ff; text-decoration-color: #00d7ff\">None</span>, <span style=\"color: #00af00; text-decoration-color: #00af00\">32</span>)             │         <span style=\"color: #00af00; text-decoration-color: #00af00\">2,080</span> │\n",
       "├─────────────────────────────────┼────────────────────────┼───────────────┤\n",
       "│ hidden_layer_4 (<span style=\"color: #0087ff; text-decoration-color: #0087ff\">Dense</span>)          │ (<span style=\"color: #00d7ff; text-decoration-color: #00d7ff\">None</span>, <span style=\"color: #00af00; text-decoration-color: #00af00\">16</span>)             │           <span style=\"color: #00af00; text-decoration-color: #00af00\">528</span> │\n",
       "├─────────────────────────────────┼────────────────────────┼───────────────┤\n",
       "│ hidden_layer_5 (<span style=\"color: #0087ff; text-decoration-color: #0087ff\">Dense</span>)          │ (<span style=\"color: #00d7ff; text-decoration-color: #00d7ff\">None</span>, <span style=\"color: #00af00; text-decoration-color: #00af00\">8</span>)              │           <span style=\"color: #00af00; text-decoration-color: #00af00\">136</span> │\n",
       "├─────────────────────────────────┼────────────────────────┼───────────────┤\n",
       "│ hidden_layer_6 (<span style=\"color: #0087ff; text-decoration-color: #0087ff\">Dense</span>)          │ (<span style=\"color: #00d7ff; text-decoration-color: #00d7ff\">None</span>, <span style=\"color: #00af00; text-decoration-color: #00af00\">4</span>)              │            <span style=\"color: #00af00; text-decoration-color: #00af00\">36</span> │\n",
       "├─────────────────────────────────┼────────────────────────┼───────────────┤\n",
       "│ hidden_layer_7 (<span style=\"color: #0087ff; text-decoration-color: #0087ff\">Dense</span>)          │ (<span style=\"color: #00d7ff; text-decoration-color: #00d7ff\">None</span>, <span style=\"color: #00af00; text-decoration-color: #00af00\">2</span>)              │            <span style=\"color: #00af00; text-decoration-color: #00af00\">10</span> │\n",
       "├─────────────────────────────────┼────────────────────────┼───────────────┤\n",
       "│ output_layer (<span style=\"color: #0087ff; text-decoration-color: #0087ff\">Dense</span>)            │ (<span style=\"color: #00d7ff; text-decoration-color: #00d7ff\">None</span>, <span style=\"color: #00af00; text-decoration-color: #00af00\">1</span>)              │             <span style=\"color: #00af00; text-decoration-color: #00af00\">3</span> │\n",
       "└─────────────────────────────────┴────────────────────────┴───────────────┘\n",
       "</pre>\n"
      ],
      "text/plain": [
       "┏━━━━━━━━━━━━━━━━━━━━━━━━━━━━━━━━━┳━━━━━━━━━━━━━━━━━━━━━━━━┳━━━━━━━━━━━━━━━┓\n",
       "┃\u001b[1m \u001b[0m\u001b[1mLayer (type)                   \u001b[0m\u001b[1m \u001b[0m┃\u001b[1m \u001b[0m\u001b[1mOutput Shape          \u001b[0m\u001b[1m \u001b[0m┃\u001b[1m \u001b[0m\u001b[1m      Param #\u001b[0m\u001b[1m \u001b[0m┃\n",
       "┡━━━━━━━━━━━━━━━━━━━━━━━━━━━━━━━━━╇━━━━━━━━━━━━━━━━━━━━━━━━╇━━━━━━━━━━━━━━━┩\n",
       "│ hidden_layer_1 (\u001b[38;5;33mDense\u001b[0m)          │ (\u001b[38;5;45mNone\u001b[0m, \u001b[38;5;34m128\u001b[0m)            │         \u001b[38;5;34m1,408\u001b[0m │\n",
       "├─────────────────────────────────┼────────────────────────┼───────────────┤\n",
       "│ hidden_layer_2 (\u001b[38;5;33mDense\u001b[0m)          │ (\u001b[38;5;45mNone\u001b[0m, \u001b[38;5;34m64\u001b[0m)             │         \u001b[38;5;34m8,256\u001b[0m │\n",
       "├─────────────────────────────────┼────────────────────────┼───────────────┤\n",
       "│ hidden_layer_3 (\u001b[38;5;33mDense\u001b[0m)          │ (\u001b[38;5;45mNone\u001b[0m, \u001b[38;5;34m32\u001b[0m)             │         \u001b[38;5;34m2,080\u001b[0m │\n",
       "├─────────────────────────────────┼────────────────────────┼───────────────┤\n",
       "│ hidden_layer_4 (\u001b[38;5;33mDense\u001b[0m)          │ (\u001b[38;5;45mNone\u001b[0m, \u001b[38;5;34m16\u001b[0m)             │           \u001b[38;5;34m528\u001b[0m │\n",
       "├─────────────────────────────────┼────────────────────────┼───────────────┤\n",
       "│ hidden_layer_5 (\u001b[38;5;33mDense\u001b[0m)          │ (\u001b[38;5;45mNone\u001b[0m, \u001b[38;5;34m8\u001b[0m)              │           \u001b[38;5;34m136\u001b[0m │\n",
       "├─────────────────────────────────┼────────────────────────┼───────────────┤\n",
       "│ hidden_layer_6 (\u001b[38;5;33mDense\u001b[0m)          │ (\u001b[38;5;45mNone\u001b[0m, \u001b[38;5;34m4\u001b[0m)              │            \u001b[38;5;34m36\u001b[0m │\n",
       "├─────────────────────────────────┼────────────────────────┼───────────────┤\n",
       "│ hidden_layer_7 (\u001b[38;5;33mDense\u001b[0m)          │ (\u001b[38;5;45mNone\u001b[0m, \u001b[38;5;34m2\u001b[0m)              │            \u001b[38;5;34m10\u001b[0m │\n",
       "├─────────────────────────────────┼────────────────────────┼───────────────┤\n",
       "│ output_layer (\u001b[38;5;33mDense\u001b[0m)            │ (\u001b[38;5;45mNone\u001b[0m, \u001b[38;5;34m1\u001b[0m)              │             \u001b[38;5;34m3\u001b[0m │\n",
       "└─────────────────────────────────┴────────────────────────┴───────────────┘\n"
      ]
     },
     "metadata": {},
     "output_type": "display_data"
    },
    {
     "data": {
      "text/html": [
       "<pre style=\"white-space:pre;overflow-x:auto;line-height:normal;font-family:Menlo,'DejaVu Sans Mono',consolas,'Courier New',monospace\"><span style=\"font-weight: bold\"> Total params: </span><span style=\"color: #00af00; text-decoration-color: #00af00\">12,457</span> (48.66 KB)\n",
       "</pre>\n"
      ],
      "text/plain": [
       "\u001b[1m Total params: \u001b[0m\u001b[38;5;34m12,457\u001b[0m (48.66 KB)\n"
      ]
     },
     "metadata": {},
     "output_type": "display_data"
    },
    {
     "data": {
      "text/html": [
       "<pre style=\"white-space:pre;overflow-x:auto;line-height:normal;font-family:Menlo,'DejaVu Sans Mono',consolas,'Courier New',monospace\"><span style=\"font-weight: bold\"> Trainable params: </span><span style=\"color: #00af00; text-decoration-color: #00af00\">12,457</span> (48.66 KB)\n",
       "</pre>\n"
      ],
      "text/plain": [
       "\u001b[1m Trainable params: \u001b[0m\u001b[38;5;34m12,457\u001b[0m (48.66 KB)\n"
      ]
     },
     "metadata": {},
     "output_type": "display_data"
    },
    {
     "data": {
      "text/html": [
       "<pre style=\"white-space:pre;overflow-x:auto;line-height:normal;font-family:Menlo,'DejaVu Sans Mono',consolas,'Courier New',monospace\"><span style=\"font-weight: bold\"> Non-trainable params: </span><span style=\"color: #00af00; text-decoration-color: #00af00\">0</span> (0.00 B)\n",
       "</pre>\n"
      ],
      "text/plain": [
       "\u001b[1m Non-trainable params: \u001b[0m\u001b[38;5;34m0\u001b[0m (0.00 B)\n"
      ]
     },
     "metadata": {},
     "output_type": "display_data"
    },
    {
     "name": "stdout",
     "output_type": "stream",
     "text": [
      "MODEL OF 8 LAYERS.\n"
     ]
    }
   ],
   "source": [
    "from tensorflow.keras.layers import Dense, Input\n",
    "model = Sequential([\n",
    "    Input(shape=(10,), name='input_layer'),  # Explicit input layer\n",
    "    Dense(128, activation='relu', name='hidden_layer_1'),  # First hidden layer\n",
    "    Dense(64, activation='relu', name='hidden_layer_2'),   # Second hidden layer\n",
    "    Dense(32, activation='relu', name='hidden_layer_3'),   # Third hidden layer\n",
    "    Dense(16, activation='relu', name='hidden_layer_4'),   # Fourth hidden layer\n",
    "    Dense(8, activation='relu', name='hidden_layer_5'),    # Fifth hidden layer\n",
    "    Dense(4, activation='relu', name='hidden_layer_6'),    # Sixth hidden layer\n",
    "    Dense(2, activation='relu', name='hidden_layer_7'),    # Seventh hidden layer\n",
    "    Dense(1, activation='sigmoid', name='output_layer')     # Output layer\n",
    "])\n",
    "print(\"Created a Sequential Model with 8 layers.\")  #(create the output/print)\n",
    "model.summary()\n",
    "print(\"MODEL OF 8 LAYERS.\")   #(Model Overview for 8 layers )\n",
    "  "
   ]
  },
  {
   "cell_type": "code",
   "execution_count": 15,
   "id": "f17182a6",
   "metadata": {},
   "outputs": [
    {
     "name": "stdout",
     "output_type": "stream",
     "text": [
      "tf.Tensor(\n",
      "[[0. 0. 0. 0.]\n",
      " [0. 0. 0. 0.]\n",
      " [0. 0. 0. 0.]], shape=(3, 4), dtype=float32)\n"
     ]
    }
   ],
   "source": [
    "import tensorflow as tf\n",
    "from tensorflow import keras\n",
    "model = keras.Sequential(\n",
    "    [\n",
    "        layers.Dense(2, activation=\"relu\", name=\"layer1\"),\n",
    "        layers.Dense(3, activation=\"relu\", name=\"layer2\"),\n",
    "        layers.Dense(4, name=\"layer3\"),\n",
    "    ]\n",
    ")\n",
    "x = tf.ones((3, 3))  \n",
    "y = model(x)  \n",
    "print(y)  # (Create the tensorflow of 3*4)"
   ]
  },
  {
   "cell_type": "code",
   "execution_count": 16,
   "id": "d2ee6a65",
   "metadata": {},
   "outputs": [],
   "source": [
    "# Early stopping callback\n",
    "from tensorflow.keras import callbacks \n",
    "early_stopping = callbacks.EarlyStopping(monitor='val_loss', patience=5, restore_best_weights=True) "
   ]
  },
  {
   "cell_type": "markdown",
   "id": "ab0dd46a",
   "metadata": {},
   "source": [
    "This is one of the important library which is import because some the epochs run to maximum numbers which might effects the system"
   ]
  },
  {
   "cell_type": "markdown",
   "id": "3a274456",
   "metadata": {},
   "source": [
    "**Now train the Model with Validation Split**"
   ]
  },
  {
   "cell_type": "code",
   "execution_count": 17,
   "id": "d2b0e9f0",
   "metadata": {},
   "outputs": [
    {
     "name": "stdout",
     "output_type": "stream",
     "text": [
      "Model created and compiled. Ready for training.\n"
     ]
    },
    {
     "data": {
      "text/html": [
       "<pre style=\"white-space:pre;overflow-x:auto;line-height:normal;font-family:Menlo,'DejaVu Sans Mono',consolas,'Courier New',monospace\"><span style=\"font-weight: bold\">Model: \"sequential_2\"</span>\n",
       "</pre>\n"
      ],
      "text/plain": [
       "\u001b[1mModel: \"sequential_2\"\u001b[0m\n"
      ]
     },
     "metadata": {},
     "output_type": "display_data"
    },
    {
     "data": {
      "text/html": [
       "<pre style=\"white-space:pre;overflow-x:auto;line-height:normal;font-family:Menlo,'DejaVu Sans Mono',consolas,'Courier New',monospace\">┏━━━━━━━━━━━━━━━━━━━━━━━━━━━━━━━━━┳━━━━━━━━━━━━━━━━━━━━━━━━┳━━━━━━━━━━━━━━━┓\n",
       "┃<span style=\"font-weight: bold\"> Layer (type)                    </span>┃<span style=\"font-weight: bold\"> Output Shape           </span>┃<span style=\"font-weight: bold\">       Param # </span>┃\n",
       "┡━━━━━━━━━━━━━━━━━━━━━━━━━━━━━━━━━╇━━━━━━━━━━━━━━━━━━━━━━━━╇━━━━━━━━━━━━━━━┩\n",
       "│ dense (<span style=\"color: #0087ff; text-decoration-color: #0087ff\">Dense</span>)                   │ (<span style=\"color: #00d7ff; text-decoration-color: #00d7ff\">None</span>, <span style=\"color: #00af00; text-decoration-color: #00af00\">128</span>)            │        <span style=\"color: #00af00; text-decoration-color: #00af00\">16,512</span> │\n",
       "├─────────────────────────────────┼────────────────────────┼───────────────┤\n",
       "│ dropout (<span style=\"color: #0087ff; text-decoration-color: #0087ff\">Dropout</span>)               │ (<span style=\"color: #00d7ff; text-decoration-color: #00d7ff\">None</span>, <span style=\"color: #00af00; text-decoration-color: #00af00\">128</span>)            │             <span style=\"color: #00af00; text-decoration-color: #00af00\">0</span> │\n",
       "├─────────────────────────────────┼────────────────────────┼───────────────┤\n",
       "│ dense_1 (<span style=\"color: #0087ff; text-decoration-color: #0087ff\">Dense</span>)                 │ (<span style=\"color: #00d7ff; text-decoration-color: #00d7ff\">None</span>, <span style=\"color: #00af00; text-decoration-color: #00af00\">64</span>)             │         <span style=\"color: #00af00; text-decoration-color: #00af00\">8,256</span> │\n",
       "├─────────────────────────────────┼────────────────────────┼───────────────┤\n",
       "│ dropout_1 (<span style=\"color: #0087ff; text-decoration-color: #0087ff\">Dropout</span>)             │ (<span style=\"color: #00d7ff; text-decoration-color: #00d7ff\">None</span>, <span style=\"color: #00af00; text-decoration-color: #00af00\">64</span>)             │             <span style=\"color: #00af00; text-decoration-color: #00af00\">0</span> │\n",
       "├─────────────────────────────────┼────────────────────────┼───────────────┤\n",
       "│ dense_2 (<span style=\"color: #0087ff; text-decoration-color: #0087ff\">Dense</span>)                 │ (<span style=\"color: #00d7ff; text-decoration-color: #00d7ff\">None</span>, <span style=\"color: #00af00; text-decoration-color: #00af00\">32</span>)             │         <span style=\"color: #00af00; text-decoration-color: #00af00\">2,080</span> │\n",
       "├─────────────────────────────────┼────────────────────────┼───────────────┤\n",
       "│ dropout_2 (<span style=\"color: #0087ff; text-decoration-color: #0087ff\">Dropout</span>)             │ (<span style=\"color: #00d7ff; text-decoration-color: #00d7ff\">None</span>, <span style=\"color: #00af00; text-decoration-color: #00af00\">32</span>)             │             <span style=\"color: #00af00; text-decoration-color: #00af00\">0</span> │\n",
       "├─────────────────────────────────┼────────────────────────┼───────────────┤\n",
       "│ dense_3 (<span style=\"color: #0087ff; text-decoration-color: #0087ff\">Dense</span>)                 │ (<span style=\"color: #00d7ff; text-decoration-color: #00d7ff\">None</span>, <span style=\"color: #00af00; text-decoration-color: #00af00\">1</span>)              │            <span style=\"color: #00af00; text-decoration-color: #00af00\">33</span> │\n",
       "└─────────────────────────────────┴────────────────────────┴───────────────┘\n",
       "</pre>\n"
      ],
      "text/plain": [
       "┏━━━━━━━━━━━━━━━━━━━━━━━━━━━━━━━━━┳━━━━━━━━━━━━━━━━━━━━━━━━┳━━━━━━━━━━━━━━━┓\n",
       "┃\u001b[1m \u001b[0m\u001b[1mLayer (type)                   \u001b[0m\u001b[1m \u001b[0m┃\u001b[1m \u001b[0m\u001b[1mOutput Shape          \u001b[0m\u001b[1m \u001b[0m┃\u001b[1m \u001b[0m\u001b[1m      Param #\u001b[0m\u001b[1m \u001b[0m┃\n",
       "┡━━━━━━━━━━━━━━━━━━━━━━━━━━━━━━━━━╇━━━━━━━━━━━━━━━━━━━━━━━━╇━━━━━━━━━━━━━━━┩\n",
       "│ dense (\u001b[38;5;33mDense\u001b[0m)                   │ (\u001b[38;5;45mNone\u001b[0m, \u001b[38;5;34m128\u001b[0m)            │        \u001b[38;5;34m16,512\u001b[0m │\n",
       "├─────────────────────────────────┼────────────────────────┼───────────────┤\n",
       "│ dropout (\u001b[38;5;33mDropout\u001b[0m)               │ (\u001b[38;5;45mNone\u001b[0m, \u001b[38;5;34m128\u001b[0m)            │             \u001b[38;5;34m0\u001b[0m │\n",
       "├─────────────────────────────────┼────────────────────────┼───────────────┤\n",
       "│ dense_1 (\u001b[38;5;33mDense\u001b[0m)                 │ (\u001b[38;5;45mNone\u001b[0m, \u001b[38;5;34m64\u001b[0m)             │         \u001b[38;5;34m8,256\u001b[0m │\n",
       "├─────────────────────────────────┼────────────────────────┼───────────────┤\n",
       "│ dropout_1 (\u001b[38;5;33mDropout\u001b[0m)             │ (\u001b[38;5;45mNone\u001b[0m, \u001b[38;5;34m64\u001b[0m)             │             \u001b[38;5;34m0\u001b[0m │\n",
       "├─────────────────────────────────┼────────────────────────┼───────────────┤\n",
       "│ dense_2 (\u001b[38;5;33mDense\u001b[0m)                 │ (\u001b[38;5;45mNone\u001b[0m, \u001b[38;5;34m32\u001b[0m)             │         \u001b[38;5;34m2,080\u001b[0m │\n",
       "├─────────────────────────────────┼────────────────────────┼───────────────┤\n",
       "│ dropout_2 (\u001b[38;5;33mDropout\u001b[0m)             │ (\u001b[38;5;45mNone\u001b[0m, \u001b[38;5;34m32\u001b[0m)             │             \u001b[38;5;34m0\u001b[0m │\n",
       "├─────────────────────────────────┼────────────────────────┼───────────────┤\n",
       "│ dense_3 (\u001b[38;5;33mDense\u001b[0m)                 │ (\u001b[38;5;45mNone\u001b[0m, \u001b[38;5;34m1\u001b[0m)              │            \u001b[38;5;34m33\u001b[0m │\n",
       "└─────────────────────────────────┴────────────────────────┴───────────────┘\n"
      ]
     },
     "metadata": {},
     "output_type": "display_data"
    },
    {
     "data": {
      "text/html": [
       "<pre style=\"white-space:pre;overflow-x:auto;line-height:normal;font-family:Menlo,'DejaVu Sans Mono',consolas,'Courier New',monospace\"><span style=\"font-weight: bold\"> Total params: </span><span style=\"color: #00af00; text-decoration-color: #00af00\">26,881</span> (105.00 KB)\n",
       "</pre>\n"
      ],
      "text/plain": [
       "\u001b[1m Total params: \u001b[0m\u001b[38;5;34m26,881\u001b[0m (105.00 KB)\n"
      ]
     },
     "metadata": {},
     "output_type": "display_data"
    },
    {
     "data": {
      "text/html": [
       "<pre style=\"white-space:pre;overflow-x:auto;line-height:normal;font-family:Menlo,'DejaVu Sans Mono',consolas,'Courier New',monospace\"><span style=\"font-weight: bold\"> Trainable params: </span><span style=\"color: #00af00; text-decoration-color: #00af00\">26,881</span> (105.00 KB)\n",
       "</pre>\n"
      ],
      "text/plain": [
       "\u001b[1m Trainable params: \u001b[0m\u001b[38;5;34m26,881\u001b[0m (105.00 KB)\n"
      ]
     },
     "metadata": {},
     "output_type": "display_data"
    },
    {
     "data": {
      "text/html": [
       "<pre style=\"white-space:pre;overflow-x:auto;line-height:normal;font-family:Menlo,'DejaVu Sans Mono',consolas,'Courier New',monospace\"><span style=\"font-weight: bold\"> Non-trainable params: </span><span style=\"color: #00af00; text-decoration-color: #00af00\">0</span> (0.00 B)\n",
       "</pre>\n"
      ],
      "text/plain": [
       "\u001b[1m Non-trainable params: \u001b[0m\u001b[38;5;34m0\u001b[0m (0.00 B)\n"
      ]
     },
     "metadata": {},
     "output_type": "display_data"
    }
   ],
   "source": [
    "def create_dnn_model(input_shape):\n",
    "    model = keras.Sequential([\n",
    "        layers.InputLayer(shape=(input_shape,)),  # Use shape instead of input_shape\n",
    "        layers.Dense(128, activation='relu'),\n",
    "        layers.Dropout(0.2),\n",
    "        layers.Dense(64, activation='relu'),\n",
    "        layers.Dropout(0.2),\n",
    "        layers.Dense(32, activation='relu'),\n",
    "        layers.Dropout(0.2),\n",
    "        layers.Dense(1, activation='sigmoid')\n",
    "    ])\n",
    "    return model\n",
    "\n",
    "model = create_dnn_model(X_train.shape[1])\n",
    "model.compile(optimizer='adam',\n",
    "              loss='binary_crossentropy',\n",
    "              metrics=['accuracy'])\n",
    "print('Model created and compiled. Ready for training.')\n",
    "model.summary()"
   ]
  },
  {
   "cell_type": "code",
   "execution_count": 18,
   "id": "1798343d",
   "metadata": {},
   "outputs": [
    {
     "name": "stdout",
     "output_type": "stream",
     "text": [
      "Model created and compiled. Ready for training.\n",
      "Epoch 1/50\n",
      "\u001b[1m25/25\u001b[0m \u001b[32m━━━━━━━━━━━━━━━━━━━━\u001b[0m\u001b[37m\u001b[0m \u001b[1m3s\u001b[0m 80ms/step - accuracy: 0.4602 - loss: -302.2111 - val_accuracy: 0.5462 - val_loss: -2544.7271\n",
      "Epoch 2/50\n",
      "\u001b[1m25/25\u001b[0m \u001b[32m━━━━━━━━━━━━━━━━━━━━\u001b[0m\u001b[37m\u001b[0m \u001b[1m2s\u001b[0m 75ms/step - accuracy: 0.5309 - loss: -5604.9155 - val_accuracy: 0.5462 - val_loss: -20492.1055\n",
      "Epoch 3/50\n",
      "\u001b[1m25/25\u001b[0m \u001b[32m━━━━━━━━━━━━━━━━━━━━\u001b[0m\u001b[37m\u001b[0m \u001b[1m2s\u001b[0m 70ms/step - accuracy: 0.5172 - loss: -36738.6914 - val_accuracy: 0.5462 - val_loss: -96025.0000\n",
      "Epoch 4/50\n",
      "\u001b[1m25/25\u001b[0m \u001b[32m━━━━━━━━━━━━━━━━━━━━\u001b[0m\u001b[37m\u001b[0m \u001b[1m2s\u001b[0m 93ms/step - accuracy: 0.5335 - loss: -152165.2500 - val_accuracy: 0.5462 - val_loss: -321435.3750\n",
      "Epoch 5/50\n",
      "\u001b[1m25/25\u001b[0m \u001b[32m━━━━━━━━━━━━━━━━━━━━\u001b[0m\u001b[37m\u001b[0m \u001b[1m2s\u001b[0m 70ms/step - accuracy: 0.5240 - loss: -449979.5625 - val_accuracy: 0.5462 - val_loss: -848875.1250\n",
      "Epoch 6/50\n",
      "\u001b[1m25/25\u001b[0m \u001b[32m━━━━━━━━━━━━━━━━━━━━\u001b[0m\u001b[37m\u001b[0m \u001b[1m3s\u001b[0m 102ms/step - accuracy: 0.5208 - loss: -1145252.6250 - val_accuracy: 0.5462 - val_loss: -1941295.3750\n",
      "Epoch 7/50\n",
      "\u001b[1m25/25\u001b[0m \u001b[32m━━━━━━━━━━━━━━━━━━━━\u001b[0m\u001b[37m\u001b[0m \u001b[1m2s\u001b[0m 89ms/step - accuracy: 0.5371 - loss: -2472233.0000 - val_accuracy: 0.5462 - val_loss: -3915906.2500\n",
      "Epoch 8/50\n",
      "\u001b[1m25/25\u001b[0m \u001b[32m━━━━━━━━━━━━━━━━━━━━\u001b[0m\u001b[37m\u001b[0m \u001b[1m2s\u001b[0m 96ms/step - accuracy: 0.5325 - loss: -4887721.0000 - val_accuracy: 0.5462 - val_loss: -7184345.5000\n",
      "Epoch 9/50\n",
      "\u001b[1m25/25\u001b[0m \u001b[32m━━━━━━━━━━━━━━━━━━━━\u001b[0m\u001b[37m\u001b[0m \u001b[1m2s\u001b[0m 92ms/step - accuracy: 0.5272 - loss: -8649653.0000 - val_accuracy: 0.5462 - val_loss: -12210118.0000\n",
      "Epoch 10/50\n",
      "\u001b[1m25/25\u001b[0m \u001b[32m━━━━━━━━━━━━━━━━━━━━\u001b[0m\u001b[37m\u001b[0m \u001b[1m2s\u001b[0m 85ms/step - accuracy: 0.5092 - loss: -15030447.0000 - val_accuracy: 0.5462 - val_loss: -19696104.0000\n",
      "Epoch 11/50\n",
      "\u001b[1m25/25\u001b[0m \u001b[32m━━━━━━━━━━━━━━━━━━━━\u001b[0m\u001b[37m\u001b[0m \u001b[1m2s\u001b[0m 82ms/step - accuracy: 0.5325 - loss: -24068248.0000 - val_accuracy: 0.5462 - val_loss: -29995354.0000\n",
      "Epoch 12/50\n",
      "\u001b[1m25/25\u001b[0m \u001b[32m━━━━━━━━━━━━━━━━━━━━\u001b[0m\u001b[37m\u001b[0m \u001b[1m2s\u001b[0m 95ms/step - accuracy: 0.5342 - loss: -35775344.0000 - val_accuracy: 0.5462 - val_loss: -44157660.0000\n",
      "Epoch 13/50\n",
      "\u001b[1m25/25\u001b[0m \u001b[32m━━━━━━━━━━━━━━━━━━━━\u001b[0m\u001b[37m\u001b[0m \u001b[1m3s\u001b[0m 99ms/step - accuracy: 0.5270 - loss: -50890884.0000 - val_accuracy: 0.5462 - val_loss: -62786700.0000\n",
      "Epoch 14/50\n",
      "\u001b[1m25/25\u001b[0m \u001b[32m━━━━━━━━━━━━━━━━━━━━\u001b[0m\u001b[37m\u001b[0m \u001b[1m2s\u001b[0m 95ms/step - accuracy: 0.5318 - loss: -70772864.0000 - val_accuracy: 0.5462 - val_loss: -86930696.0000\n",
      "Epoch 15/50\n",
      "\u001b[1m25/25\u001b[0m \u001b[32m━━━━━━━━━━━━━━━━━━━━\u001b[0m\u001b[37m\u001b[0m \u001b[1m2s\u001b[0m 69ms/step - accuracy: 0.5220 - loss: -97849072.0000 - val_accuracy: 0.5462 - val_loss: -117429552.0000\n",
      "Epoch 16/50\n",
      "\u001b[1m25/25\u001b[0m \u001b[32m━━━━━━━━━━━━━━━━━━━━\u001b[0m\u001b[37m\u001b[0m \u001b[1m2s\u001b[0m 62ms/step - accuracy: 0.5307 - loss: -132199232.0000 - val_accuracy: 0.5462 - val_loss: -155789936.0000\n",
      "Epoch 17/50\n",
      "\u001b[1m25/25\u001b[0m \u001b[32m━━━━━━━━━━━━━━━━━━━━\u001b[0m\u001b[37m\u001b[0m \u001b[1m2s\u001b[0m 65ms/step - accuracy: 0.5294 - loss: -183664752.0000 - val_accuracy: 0.5462 - val_loss: -202705040.0000\n",
      "Epoch 18/50\n",
      "\u001b[1m25/25\u001b[0m \u001b[32m━━━━━━━━━━━━━━━━━━━━\u001b[0m\u001b[37m\u001b[0m \u001b[1m2s\u001b[0m 69ms/step - accuracy: 0.5170 - loss: -222390768.0000 - val_accuracy: 0.5462 - val_loss: -258788304.0000\n",
      "Epoch 19/50\n",
      "\u001b[1m25/25\u001b[0m \u001b[32m━━━━━━━━━━━━━━━━━━━━\u001b[0m\u001b[37m\u001b[0m \u001b[1m2s\u001b[0m 90ms/step - accuracy: 0.5118 - loss: -311628800.0000 - val_accuracy: 0.5462 - val_loss: -326355232.0000\n",
      "Epoch 20/50\n",
      "\u001b[1m25/25\u001b[0m \u001b[32m━━━━━━━━━━━━━━━━━━━━\u001b[0m\u001b[37m\u001b[0m \u001b[1m2s\u001b[0m 95ms/step - accuracy: 0.5145 - loss: -362368576.0000 - val_accuracy: 0.5462 - val_loss: -404812032.0000\n",
      "Epoch 21/50\n",
      "\u001b[1m25/25\u001b[0m \u001b[32m━━━━━━━━━━━━━━━━━━━━\u001b[0m\u001b[37m\u001b[0m \u001b[1m2s\u001b[0m 84ms/step - accuracy: 0.5127 - loss: -455544800.0000 - val_accuracy: 0.5462 - val_loss: -499491200.0000\n",
      "Epoch 22/50\n",
      "\u001b[1m25/25\u001b[0m \u001b[32m━━━━━━━━━━━━━━━━━━━━\u001b[0m\u001b[37m\u001b[0m \u001b[1m3s\u001b[0m 102ms/step - accuracy: 0.5231 - loss: -540476672.0000 - val_accuracy: 0.5462 - val_loss: -607215488.0000\n",
      "Epoch 23/50\n",
      "\u001b[1m25/25\u001b[0m \u001b[32m━━━━━━━━━━━━━━━━━━━━\u001b[0m\u001b[37m\u001b[0m \u001b[1m3s\u001b[0m 101ms/step - accuracy: 0.5323 - loss: -666347456.0000 - val_accuracy: 0.5462 - val_loss: -729432000.0000\n",
      "Epoch 24/50\n",
      "\u001b[1m25/25\u001b[0m \u001b[32m━━━━━━━━━━━━━━━━━━━━\u001b[0m\u001b[37m\u001b[0m \u001b[1m2s\u001b[0m 96ms/step - accuracy: 0.5341 - loss: -798722176.0000 - val_accuracy: 0.5462 - val_loss: -871048320.0000\n",
      "Epoch 25/50\n",
      "\u001b[1m25/25\u001b[0m \u001b[32m━━━━━━━━━━━━━━━━━━━━\u001b[0m\u001b[37m\u001b[0m \u001b[1m2s\u001b[0m 91ms/step - accuracy: 0.5362 - loss: -985428672.0000 - val_accuracy: 0.5462 - val_loss: -1031576960.0000\n",
      "Epoch 26/50\n",
      "\u001b[1m25/25\u001b[0m \u001b[32m━━━━━━━━━━━━━━━━━━━━\u001b[0m\u001b[37m\u001b[0m \u001b[1m3s\u001b[0m 101ms/step - accuracy: 0.5267 - loss: -1230453120.0000 - val_accuracy: 0.5462 - val_loss: -1211263488.0000\n",
      "Epoch 27/50\n",
      "\u001b[1m25/25\u001b[0m \u001b[32m━━━━━━━━━━━━━━━━━━━━\u001b[0m\u001b[37m\u001b[0m \u001b[1m2s\u001b[0m 83ms/step - accuracy: 0.5231 - loss: -1302627200.0000 - val_accuracy: 0.5462 - val_loss: -1408308352.0000\n",
      "Epoch 28/50\n",
      "\u001b[1m25/25\u001b[0m \u001b[32m━━━━━━━━━━━━━━━━━━━━\u001b[0m\u001b[37m\u001b[0m \u001b[1m2s\u001b[0m 87ms/step - accuracy: 0.5423 - loss: -1437591552.0000 - val_accuracy: 0.5462 - val_loss: -1631094016.0000\n",
      "Epoch 29/50\n",
      "\u001b[1m25/25\u001b[0m \u001b[32m━━━━━━━━━━━━━━━━━━━━\u001b[0m\u001b[37m\u001b[0m \u001b[1m2s\u001b[0m 77ms/step - accuracy: 0.5254 - loss: -1864536448.0000 - val_accuracy: 0.5462 - val_loss: -1885857024.0000\n",
      "Epoch 30/50\n",
      "\u001b[1m25/25\u001b[0m \u001b[32m━━━━━━━━━━━━━━━━━━━━\u001b[0m\u001b[37m\u001b[0m \u001b[1m2s\u001b[0m 71ms/step - accuracy: 0.5189 - loss: -2171589376.0000 - val_accuracy: 0.5462 - val_loss: -2164171008.0000\n",
      "Epoch 31/50\n",
      "\u001b[1m25/25\u001b[0m \u001b[32m━━━━━━━━━━━━━━━━━━━━\u001b[0m\u001b[37m\u001b[0m \u001b[1m2s\u001b[0m 76ms/step - accuracy: 0.5227 - loss: -2274993152.0000 - val_accuracy: 0.5462 - val_loss: -2468362752.0000\n",
      "Epoch 32/50\n",
      "\u001b[1m25/25\u001b[0m \u001b[32m━━━━━━━━━━━━━━━━━━━━\u001b[0m\u001b[37m\u001b[0m \u001b[1m2s\u001b[0m 85ms/step - accuracy: 0.5325 - loss: -2565678848.0000 - val_accuracy: 0.5462 - val_loss: -2802678528.0000\n",
      "Epoch 33/50\n",
      "\u001b[1m25/25\u001b[0m \u001b[32m━━━━━━━━━━━━━━━━━━━━\u001b[0m\u001b[37m\u001b[0m \u001b[1m2s\u001b[0m 86ms/step - accuracy: 0.5203 - loss: -3222688000.0000 - val_accuracy: 0.5462 - val_loss: -3170316544.0000\n",
      "Epoch 34/50\n",
      "\u001b[1m25/25\u001b[0m \u001b[32m━━━━━━━━━━━━━━━━━━━━\u001b[0m\u001b[37m\u001b[0m \u001b[1m2s\u001b[0m 77ms/step - accuracy: 0.5388 - loss: -3253242880.0000 - val_accuracy: 0.5462 - val_loss: -3557930752.0000\n",
      "Epoch 35/50\n",
      "\u001b[1m25/25\u001b[0m \u001b[32m━━━━━━━━━━━━━━━━━━━━\u001b[0m\u001b[37m\u001b[0m \u001b[1m2s\u001b[0m 63ms/step - accuracy: 0.5284 - loss: -3751187456.0000 - val_accuracy: 0.5462 - val_loss: -3989349888.0000\n",
      "Epoch 36/50\n",
      "\u001b[1m25/25\u001b[0m \u001b[32m━━━━━━━━━━━━━━━━━━━━\u001b[0m\u001b[37m\u001b[0m \u001b[1m2s\u001b[0m 86ms/step - accuracy: 0.5224 - loss: -4419714560.0000 - val_accuracy: 0.5462 - val_loss: -4461466624.0000\n",
      "Epoch 37/50\n",
      "\u001b[1m25/25\u001b[0m \u001b[32m━━━━━━━━━━━━━━━━━━━━\u001b[0m\u001b[37m\u001b[0m \u001b[1m2s\u001b[0m 96ms/step - accuracy: 0.5188 - loss: -4979103744.0000 - val_accuracy: 0.5462 - val_loss: -4960263168.0000\n",
      "Epoch 38/50\n",
      "\u001b[1m25/25\u001b[0m \u001b[32m━━━━━━━━━━━━━━━━━━━━\u001b[0m\u001b[37m\u001b[0m \u001b[1m2s\u001b[0m 96ms/step - accuracy: 0.5324 - loss: -5918666240.0000 - val_accuracy: 0.5462 - val_loss: -5517328384.0000\n",
      "Epoch 39/50\n",
      "\u001b[1m25/25\u001b[0m \u001b[32m━━━━━━━━━━━━━━━━━━━━\u001b[0m\u001b[37m\u001b[0m \u001b[1m2s\u001b[0m 95ms/step - accuracy: 0.5169 - loss: -6165820416.0000 - val_accuracy: 0.5462 - val_loss: -6101219840.0000\n",
      "Epoch 40/50\n",
      "\u001b[1m25/25\u001b[0m \u001b[32m━━━━━━━━━━━━━━━━━━━━\u001b[0m\u001b[37m\u001b[0m \u001b[1m2s\u001b[0m 93ms/step - accuracy: 0.5403 - loss: -6593642496.0000 - val_accuracy: 0.5462 - val_loss: -6722586624.0000\n",
      "Epoch 41/50\n",
      "\u001b[1m25/25\u001b[0m \u001b[32m━━━━━━━━━━━━━━━━━━━━\u001b[0m\u001b[37m\u001b[0m \u001b[1m2s\u001b[0m 96ms/step - accuracy: 0.5341 - loss: -7431708160.0000 - val_accuracy: 0.5462 - val_loss: -7394550272.0000\n",
      "Epoch 42/50\n",
      "\u001b[1m25/25\u001b[0m \u001b[32m━━━━━━━━━━━━━━━━━━━━\u001b[0m\u001b[37m\u001b[0m \u001b[1m2s\u001b[0m 96ms/step - accuracy: 0.5333 - loss: -7945361920.0000 - val_accuracy: 0.5462 - val_loss: -8129646592.0000\n",
      "Epoch 43/50\n",
      "\u001b[1m25/25\u001b[0m \u001b[32m━━━━━━━━━━━━━━━━━━━━\u001b[0m\u001b[37m\u001b[0m \u001b[1m2s\u001b[0m 97ms/step - accuracy: 0.5304 - loss: -8938576896.0000 - val_accuracy: 0.5462 - val_loss: -8910696448.0000\n",
      "Epoch 44/50\n",
      "\u001b[1m25/25\u001b[0m \u001b[32m━━━━━━━━━━━━━━━━━━━━\u001b[0m\u001b[37m\u001b[0m \u001b[1m2s\u001b[0m 90ms/step - accuracy: 0.5265 - loss: -9590236160.0000 - val_accuracy: 0.5462 - val_loss: -9738734592.0000\n",
      "Epoch 45/50\n",
      "\u001b[1m25/25\u001b[0m \u001b[32m━━━━━━━━━━━━━━━━━━━━\u001b[0m\u001b[37m\u001b[0m \u001b[1m2s\u001b[0m 75ms/step - accuracy: 0.5333 - loss: -10092666880.0000 - val_accuracy: 0.5462 - val_loss: -10592868352.0000\n",
      "Epoch 46/50\n",
      "\u001b[1m25/25\u001b[0m \u001b[32m━━━━━━━━━━━━━━━━━━━━\u001b[0m\u001b[37m\u001b[0m \u001b[1m3s\u001b[0m 99ms/step - accuracy: 0.5229 - loss: -11413943296.0000 - val_accuracy: 0.5462 - val_loss: -11523627008.0000\n",
      "Epoch 47/50\n",
      "\u001b[1m25/25\u001b[0m \u001b[32m━━━━━━━━━━━━━━━━━━━━\u001b[0m\u001b[37m\u001b[0m \u001b[1m2s\u001b[0m 94ms/step - accuracy: 0.5308 - loss: -12530194432.0000 - val_accuracy: 0.5462 - val_loss: -12510670848.0000\n",
      "Epoch 48/50\n",
      "\u001b[1m25/25\u001b[0m \u001b[32m━━━━━━━━━━━━━━━━━━━━\u001b[0m\u001b[37m\u001b[0m \u001b[1m2s\u001b[0m 82ms/step - accuracy: 0.5262 - loss: -13529220096.0000 - val_accuracy: 0.5462 - val_loss: -13558736896.0000\n",
      "Epoch 49/50\n",
      "\u001b[1m25/25\u001b[0m \u001b[32m━━━━━━━━━━━━━━━━━━━━\u001b[0m\u001b[37m\u001b[0m \u001b[1m2s\u001b[0m 75ms/step - accuracy: 0.5384 - loss: -14377088000.0000 - val_accuracy: 0.5462 - val_loss: -14643494912.0000\n",
      "Epoch 50/50\n",
      "\u001b[1m25/25\u001b[0m \u001b[32m━━━━━━━━━━━━━━━━━━━━\u001b[0m\u001b[37m\u001b[0m \u001b[1m2s\u001b[0m 73ms/step - accuracy: 0.5191 - loss: -15717991424.0000 - val_accuracy: 0.5462 - val_loss: -15792941056.0000\n",
      "\u001b[1m32/32\u001b[0m \u001b[32m━━━━━━━━━━━━━━━━━━━━\u001b[0m\u001b[37m\u001b[0m \u001b[1m0s\u001b[0m 8ms/step - accuracy: 0.5538 - loss: -13580259328.0000\n",
      "Test accuracy: 0.5320\n",
      "Test loss: -16374907904.0000\n"
     ]
    },
    {
     "data": {
      "image/png": "[encoded data removed]",
      "text/plain": [
       "<Figure size 1200x400 with 2 Axes>"
      ]
     },
     "metadata": {},
     "output_type": "display_data"
    }
   ],
   "source": [
    "from tensorflow import keras\n",
    "from tensorflow.keras import layers\n",
    "import matplotlib.pyplot as plt\n",
    "\n",
    "# Define a function to create the model\n",
    "def create_dnn_model(input_shape):\n",
    "    model = keras.Sequential([\n",
    "        layers.InputLayer(shape=(input_shape,)),  # Use the flattened input shape\n",
    "        layers.Dense(128, activation='relu'),\n",
    "        layers.Dropout(0.2),\n",
    "        layers.Dense(64, activation='relu'),\n",
    "        layers.Dropout(0.2),\n",
    "        layers.Dense(32, activation='relu'),\n",
    "        layers.Dropout(0.2),\n",
    "        layers.Dense(1, activation='sigmoid')  # Binary classification output\n",
    "    ])\n",
    "    return model\n",
    "\n",
    "# Flatten the input data (assuming you're working with image data)\n",
    "X_train_flat = X_train.reshape(X_train.shape[0], -1)  # Flatten each image to a 1D array\n",
    "X_test_flat = X_test.reshape(X_test.shape[0], -1)    # Flatten test data similarly\n",
    "\n",
    "# Create the model with the flattened input shape\n",
    "model = create_dnn_model(X_train_flat.shape[1])\n",
    "\n",
    "# Compile the model\n",
    "model.compile(optimizer='adam',\n",
    "              loss='binary_crossentropy',\n",
    "              metrics=['accuracy'])\n",
    "\n",
    "print('Model created and compiled. Ready for training.')\n",
    "\n",
    "# Set up early stopping to prevent overfitting\n",
    "early_stopping = keras.callbacks.EarlyStopping(\n",
    "    monitor='val_loss',\n",
    "    patience=5,\n",
    "    restore_best_weights=True\n",
    ")\n",
    "\n",
    "# Train the model with the flattened data\n",
    "history = model.fit(\n",
    "    X_train_flat,  # Use the flattened data\n",
    "    y_train,\n",
    "    epochs=50,\n",
    "    batch_size=128,\n",
    "    validation_split=0.2,\n",
    "    callbacks=[early_stopping],\n",
    "    verbose=1\n",
    ")\n",
    "\n",
    "# Evaluate the model on the test set\n",
    "test_loss, test_accuracy = model.evaluate(X_test_flat, y_test)\n",
    "\n",
    "print(f'Test accuracy: {test_accuracy:.4f}')\n",
    "print(f'Test loss: {test_loss:.4f}')\n",
    "\n",
    "# Plot training history\n",
    "plt.figure(figsize=(12, 4))\n",
    "\n",
    "# Loss plot\n",
    "plt.subplot(1, 2, 1)\n",
    "plt.plot(history.history['loss'], label='Training Loss')\n",
    "plt.plot(history.history['val_loss'], label='Validation Loss')\n",
    "plt.title('Training and Validation Loss')\n",
    "plt.xlabel('Epoch')\n",
    "plt.ylabel('Loss')\n",
    "plt.legend()\n",
    "\n",
    "# Accuracy plot\n",
    "plt.subplot(1, 2, 2)\n",
    "plt.plot(history.history['accuracy'], label='Training Accuracy')\n",
    "plt.plot(history.history['val_accuracy'], label='Validation Accuracy')\n",
    "plt.title('Training and Validation Accuracy')\n",
    "plt.xlabel('Epoch')\n",
    "plt.ylabel('Accuracy')\n",
    "plt.legend()\n",
    "\n",
    "plt.show()  # Show the plots\n"
   ]
  },
  {
   "cell_type": "code",
   "execution_count": 19,
   "id": "cd9a5046",
   "metadata": {},
   "outputs": [],
   "source": [
    "model = keras.Sequential()\n",
    "model.add(keras.Input(shape=(4,))) \n",
    "model.add(layers.Dense(2, activation=\"relu\"))"
   ]
  },
  {
   "cell_type": "code",
   "execution_count": 20,
   "id": "510f095c",
   "metadata": {},
   "outputs": [
    {
     "name": "stdout",
     "output_type": "stream",
     "text": [
      "Epoch 1/50\n",
      "\u001b[1m25/25\u001b[0m \u001b[32m━━━━━━━━━━━━━━━━━━━━\u001b[0m\u001b[37m\u001b[0m \u001b[1m4s\u001b[0m 108ms/step - accuracy: 0.4892 - loss: -297.4354 - val_accuracy: 0.5462 - val_loss: -2511.1816\n",
      "Epoch 2/50\n",
      "\u001b[1m25/25\u001b[0m \u001b[32m━━━━━━━━━━━━━━━━━━━━\u001b[0m\u001b[37m\u001b[0m \u001b[1m2s\u001b[0m 67ms/step - accuracy: 0.5311 - loss: -5557.2314 - val_accuracy: 0.5462 - val_loss: -20140.6172\n",
      "Epoch 3/50\n",
      "\u001b[1m25/25\u001b[0m \u001b[32m━━━━━━━━━━━━━━━━━━━━\u001b[0m\u001b[37m\u001b[0m \u001b[1m2s\u001b[0m 81ms/step - accuracy: 0.5390 - loss: -33691.7969 - val_accuracy: 0.5462 - val_loss: -92873.7422\n",
      "Epoch 4/50\n",
      "\u001b[1m25/25\u001b[0m \u001b[32m━━━━━━━━━━━━━━━━━━━━\u001b[0m\u001b[37m\u001b[0m \u001b[1m2s\u001b[0m 82ms/step - accuracy: 0.5399 - loss: -139603.6406 - val_accuracy: 0.5462 - val_loss: -311623.4062\n",
      "Epoch 5/50\n",
      "\u001b[1m25/25\u001b[0m \u001b[32m━━━━━━━━━━━━━━━━━━━━\u001b[0m\u001b[37m\u001b[0m \u001b[1m2s\u001b[0m 91ms/step - accuracy: 0.5261 - loss: -437625.9375 - val_accuracy: 0.5462 - val_loss: -831037.0625\n",
      "\u001b[1m32/32\u001b[0m \u001b[32m━━━━━━━━━━━━━━━━━━━━\u001b[0m\u001b[37m\u001b[0m \u001b[1m0s\u001b[0m 6ms/step - accuracy: 0.5538 - loss: -2159.3159\n",
      "Test accuracy: 0.5320\n",
      "Test loss: -2603.7427\n"
     ]
    }
   ],
   "source": [
    "X_train_flat = X_train.reshape(X_train.shape[0], -1)\n",
    "X_test_flat = X_test.reshape(X_test.shape[0], -1)\n",
    "\n",
    "def create_dnn_model(input_shape):\n",
    "    model = keras.Sequential([\n",
    "        layers.InputLayer(shape=(input_shape,)),  # Adjust input shape to match the flattened data\n",
    "        layers.Dense(128, activation='relu'),\n",
    "        layers.Dropout(0.2),\n",
    "        layers.Dense(64, activation='relu'),\n",
    "        layers.Dropout(0.2),\n",
    "        layers.Dense(32, activation='relu'),\n",
    "        layers.Dropout(0.2),\n",
    "        layers.Dense(1, activation='sigmoid')  # Assuming binary classification\n",
    "    ])\n",
    "    return model\n",
    "\n",
    "model = create_dnn_model(X_train_flat.shape[1])\n",
    "model.compile(optimizer='adam',\n",
    "              loss='binary_crossentropy',\n",
    "              metrics=['accuracy'])\n",
    "history = model.fit(\n",
    "    X_train_flat,  # Use the flattened data\n",
    "    y_train,\n",
    "    epochs=50,\n",
    "    batch_size=128,\n",
    "    validation_split=0.2,\n",
    "    callbacks=[early_stopping],\n",
    "    verbose=1\n",
    ")\n",
    "test_loss, test_accuracy = model.evaluate(X_test_flat, y_test)\n",
    "\n",
    "print(f'Test accuracy: {test_accuracy:.4f}')\n",
    "print(f'Test loss: {test_loss:.4f}')\n"
   ]
  },
  {
   "cell_type": "markdown",
   "id": "b0b54cd8",
   "metadata": {},
   "source": [
    "*code flatten the  image data, converting 3D image arrays into 1D vectors .* \n",
    "*The model is defined with multiple hidden layers using ReLU activation and dropout to prevent overfitting. *\n",
    "\n",
    "*The model is trained on the flattened data and using the  mini-batche with the validation data and early stopping so hepls to save from overfitting and increase the performance and prevent overfitting. After 50 epochs  model is evaluated on test data to measure its accuracy and loss.*"
   ]
  },
  {
   "cell_type": "markdown",
   "id": "2adcbf8c",
   "metadata": {},
   "source": [
    "**HYPERPARAMETER TUNING**"
   ]
  },
  {
   "cell_type": "code",
   "execution_count": 21,
   "id": "2349134b",
   "metadata": {},
   "outputs": [
    {
     "name": "stdout",
     "output_type": "stream",
     "text": [
      "Requirement already satisfied: keras-tuner in c:\\users\\jasha\\anaconda3\\lib\\site-packages (1.4.7)\n",
      "Requirement already satisfied: keras in c:\\users\\jasha\\anaconda3\\lib\\site-packages (from keras-tuner) (3.5.0)\n",
      "Requirement already satisfied: packaging in c:\\users\\jasha\\anaconda3\\lib\\site-packages (from keras-tuner) (23.1)\n",
      "Requirement already satisfied: requests in c:\\users\\jasha\\anaconda3\\lib\\site-packages (from keras-tuner) (2.31.0)\n",
      "Requirement already satisfied: kt-legacy in c:\\users\\jasha\\anaconda3\\lib\\site-packages (from keras-tuner) (1.0.5)\n",
      "Requirement already satisfied: absl-py in c:\\users\\jasha\\anaconda3\\lib\\site-packages (from keras->keras-tuner) (2.1.0)\n",
      "Requirement already satisfied: numpy in c:\\users\\jasha\\anaconda3\\lib\\site-packages (from keras->keras-tuner) (1.24.3)\n",
      "Requirement already satisfied: rich in c:\\users\\jasha\\anaconda3\\lib\\site-packages (from keras->keras-tuner) (13.8.1)\n",
      "Requirement already satisfied: namex in c:\\users\\jasha\\anaconda3\\lib\\site-packages (from keras->keras-tuner) (0.0.8)\n",
      "Requirement already satisfied: h5py in c:\\users\\jasha\\anaconda3\\lib\\site-packages (from keras->keras-tuner) (3.12.1)\n",
      "Requirement already satisfied: optree in c:\\users\\jasha\\anaconda3\\lib\\site-packages (from keras->keras-tuner) (0.12.1)\n",
      "Requirement already satisfied: ml-dtypes in c:\\users\\jasha\\anaconda3\\lib\\site-packages (from keras->keras-tuner) (0.4.1)\n",
      "Requirement already satisfied: charset-normalizer<4,>=2 in c:\\users\\jasha\\anaconda3\\lib\\site-packages (from requests->keras-tuner) (2.0.4)\n",
      "Requirement already satisfied: idna<4,>=2.5 in c:\\users\\jasha\\anaconda3\\lib\\site-packages (from requests->keras-tuner) (3.4)\n",
      "Requirement already satisfied: urllib3<3,>=1.21.1 in c:\\users\\jasha\\anaconda3\\lib\\site-packages (from requests->keras-tuner) (1.26.16)\n",
      "Requirement already satisfied: certifi>=2017.4.17 in c:\\users\\jasha\\anaconda3\\lib\\site-packages (from requests->keras-tuner) (2023.7.22)\n",
      "Requirement already satisfied: typing-extensions>=4.5.0 in c:\\users\\jasha\\anaconda3\\lib\\site-packages (from optree->keras->keras-tuner) (4.7.1)\n",
      "Requirement already satisfied: markdown-it-py>=2.2.0 in c:\\users\\jasha\\anaconda3\\lib\\site-packages (from rich->keras->keras-tuner) (2.2.0)\n",
      "Requirement already satisfied: pygments<3.0.0,>=2.13.0 in c:\\users\\jasha\\anaconda3\\lib\\site-packages (from rich->keras->keras-tuner) (2.15.1)\n",
      "Requirement already satisfied: mdurl~=0.1 in c:\\users\\jasha\\anaconda3\\lib\\site-packages (from markdown-it-py>=2.2.0->rich->keras->keras-tuner) (0.1.0)\n",
      "Note: you may need to restart the kernel to use updated packages.\n"
     ]
    }
   ],
   "source": [
    "pip install keras-tuner"
   ]
  },
  {
   "cell_type": "code",
   "execution_count": 22,
   "id": "ee3f1239",
   "metadata": {},
   "outputs": [
    {
     "name": "stderr",
     "output_type": "stream",
     "text": [
      "C:\\Users\\jasha\\AppData\\Local\\Temp\\ipykernel_23024\\1681214936.py:3: DeprecationWarning: `import kerastuner` is deprecated, please use `import keras_tuner`.\n",
      "  from kerastuner import RandomSearch\n"
     ]
    },
    {
     "name": "stdout",
     "output_type": "stream",
     "text": [
      "Reloading Tuner from my_dir\\bank_hyperparam_tuning\\tuner0.json\n",
      "The optimal number of units in the dense layer is: 320\n",
      "The optimal learning rate is: 0.01\n",
      "The optimal dropout rate is: 0.2\n"
     ]
    }
   ],
   "source": [
    "from tensorflow import keras\n",
    "from tensorflow.keras import layers\n",
    "from kerastuner import RandomSearch\n",
    "from kerastuner.engine.hyperparameters import HyperParameters\n",
    "\n",
    "def build_hyper_model(hp):\n",
    "    model = keras.Sequential()\n",
    "    model.add(layers.InputLayer(input_shape=(128, 128, 3)))\n",
    "    model.add(layers.Flatten())\n",
    "    \n",
    "    # Hyperparameter tuning for the number of units in Dense layers\n",
    "    hp_units = hp.Int('units', min_value=32, max_value=512, step=32)\n",
    "    model.add(layers.Dense(units=hp_units, activation='relu'))\n",
    "    \n",
    "    # Hyperparameter tuning for dropout rate\n",
    "    hp_dropout = hp.Choice('dropout_rate', values=[0.2, 0.3, 0.4])\n",
    "    model.add(layers.Dropout(rate=hp_dropout))\n",
    "    \n",
    "    # Output layer\n",
    "    model.add(layers.Dense(1, activation='sigmoid'))\n",
    "    \n",
    "    # Compile the model with a choice of learning rate\n",
    "    model.compile(optimizer=keras.optimizers.Adam(hp.Choice('learning_rate', [1e-2, 1e-3, 1e-4])),\n",
    "                  loss='binary_crossentropy',\n",
    "                  metrics=['accuracy'])\n",
    "    \n",
    "    return model\n",
    "\n",
    "random_search = RandomSearch(build_hyper_model,\n",
    "                             objective='val_accuracy',\n",
    "                             max_trials=5,\n",
    "                             executions_per_trial=1,\n",
    "                             directory='my_dir',\n",
    "                             project_name='bank_hyperparam_tuning')\n",
    "\n",
    "random_search.search(X_train, y_train,\n",
    "                     epochs=10,\n",
    "                     validation_split=0.2,\n",
    "                     callbacks=[keras.callbacks.EarlyStopping(monitor='val_loss', patience=3)])\n",
    "\n",
    "best_hps = random_search.get_best_hyperparameters(num_trials=1)[0]\n",
    "\n",
    "print('The optimal number of units in the dense layer is:', best_hps.get('units'))\n",
    "print('The optimal learning rate is:', best_hps.get('learning_rate'))\n",
    "print('The optimal dropout rate is:', best_hps.get('dropout_rate'))\n"
   ]
  },
  {
   "cell_type": "code",
   "execution_count": 23,
   "id": "6f321a93",
   "metadata": {},
   "outputs": [
    {
     "name": "stdout",
     "output_type": "stream",
     "text": [
      "Reloading Tuner from my_dir\\bank_hyperparam_tuning\\tuner0.json\n",
      "The optimal number of units in the dense layer is: 384\n",
      "The optimal learning rate is: 0.001\n",
      "The optimal dropout rate is: 0.3\n"
     ]
    }
   ],
   "source": [
    "from kerastuner import RandomSearch\n",
    "from kerastuner.engine.hyperparameters import HyperParameters\n",
    "\n",
    "def build_hyper_model(hp):\n",
    "    model = keras.Sequential()\n",
    "    model.add(layers.InputLayer(input_shape=(X_train.shape[1],)))\n",
    "    hp_units = hp.Int('units', min_value=32, max_value=512, step=32)\n",
    "    model.add(layers.Dense(units=hp_units, activation='relu'))\n",
    "    hp_dropout = hp.Choice('dropout_rate', values=[0.2, 0.3, 0.4])\n",
    "    model.add(layers.Dropout(rate=hp_dropout))\n",
    "    model.add(layers.Dense(1, activation='sigmoid'))\n",
    "    model.compile(optimizer=keras.optimizers.Adam(hp.Choice('learning_rate', [1e-2, 1e-3, 1e-4])),\n",
    "                  loss='binary_crossentropy',\n",
    "                  metrics=['accuracy'])\n",
    "    return model\n",
    "\n",
    "\n",
    "random_search = RandomSearch(build_hyper_model,\n",
    "                             objective='val_accuracy',\n",
    "                             max_trials=5,\n",
    "                             executions_per_trial=1,\n",
    "                             directory='my_dir',\n",
    "                             project_name='bank_hyperparam_tuning')\n",
    "\n",
    "random_search.search(X_train, y_train,\n",
    "                     epochs=10,\n",
    "                     validation_split=0.2,\n",
    "                     callbacks=[keras.callbacks.EarlyStopping(monitor='val_loss', patience=3)])\n",
    "\n",
    "best_hps = random_search.get_best_hyperparameters(num_trials=1)[0]\n",
    "\n",
    "print('The optimal number of units in the dense layer is:', best_hps.get('units'))\n",
    "print('The optimal learning rate is:', best_hps.get('learning_rate'))\n",
    "print('The optimal dropout rate is:', best_hps.get('dropout_rate'))"
   ]
  },
  {
   "cell_type": "markdown",
   "id": "19031dcf",
   "metadata": {},
   "source": [
    " *Image data and tunes the number of layers, units per layer, dropout rates, and learning rates. The model is compiled with binary cross-entropy loss and accuracy as the evaluation metric.*\n",
    "\n",
    "*The random search runs 5 trials, each trained for 20 epochs with early stopping based on validation loss.* \n",
    "After the search \n",
    "*Best hyperparameters =5\n",
    "*Number of layers =[256, 64, 64, 64, 64]\n",
    "*Dropout rates= [0.1, 0.1, 0.1, 0.1, 0.1]\n",
    "*learning rate=0.001\n"
   ]
  },
  {
   "cell_type": "code",
   "execution_count": 24,
   "id": "62230cfc",
   "metadata": {},
   "outputs": [
    {
     "name": "stdout",
     "output_type": "stream",
     "text": [
      "\u001b[1m32/32\u001b[0m \u001b[32m━━━━━━━━━━━━━━━━━━━━\u001b[0m\u001b[37m\u001b[0m \u001b[1m3s\u001b[0m 43ms/step - accuracy: 0.5538 - loss: -2159.3159\n",
      "Test Loss: -2603.743, Test Accuracy: 0.532\n"
     ]
    }
   ],
   "source": [
    "\n",
    "test_loss, test_accuracy = model.evaluate(X_test_flat, y_test)\n",
    "print(f\"Test Loss: {test_loss:.3f}, Test Accuracy: {test_accuracy:.3f}\")\n"
   ]
  },
  {
   "cell_type": "markdown",
   "id": "79d63b49",
   "metadata": {},
   "source": [
    "*Find the loss test set*"
   ]
  },
  {
   "cell_type": "code",
   "execution_count": 25,
   "id": "a7038d93",
   "metadata": {},
   "outputs": [
    {
     "name": "stdout",
     "output_type": "stream",
     "text": [
      "                 photo_id             business_id  \\\n",
      "0  zsvj7vloL4L5jhYyPIuVwg  Nk-SJhPlDBkAZvfsADtccA   \n",
      "1  HCUdRJHHm_e0OCTlZetGLg  yVZtL5MmrpiivyCIrVkGgA   \n",
      "2  vkr8T0scuJmGVvN2HJelEA  _ab50qdWOk0DdB6XOrBitw   \n",
      "3  pve7D6NUrafHW3EAORubyw  SZU9c8V2GuREDN5KgyHFJw   \n",
      "4  H52Er-uBg6rNrHcReWTD2w  Gzur0f0XMkrVxIwYJvOt2g   \n",
      "\n",
      "                                             caption    label  \n",
      "0  Nice rock artwork everywhere and craploads of ...   inside  \n",
      "1                                                     outside  \n",
      "2                                     oyster shooter    drink  \n",
      "3                                      Shrimp scampi     food  \n",
      "4                                                        food  \n"
     ]
    },
    {
     "name": "stderr",
     "output_type": "stream",
     "text": [
      "c:\\Users\\jasha\\anaconda3\\Lib\\site-packages\\keras\\src\\layers\\core\\dense.py:87: UserWarning: Do not pass an `input_shape`/`input_dim` argument to a layer. When using Sequential models, prefer using an `Input(shape)` object as the first layer in the model instead.\n",
      "  super().__init__(activity_regularizer=activity_regularizer, **kwargs)\n"
     ]
    },
    {
     "name": "stdout",
     "output_type": "stream",
     "text": [
      "Epoch 1/100\n",
      "\u001b[1m4002/4002\u001b[0m \u001b[32m━━━━━━━━━━━━━━━━━━━━\u001b[0m\u001b[37m\u001b[0m \u001b[1m66s\u001b[0m 14ms/step - accuracy: 0.5971 - loss: 1.1394 - val_accuracy: 0.6310 - val_loss: 1.0009\n",
      "Epoch 2/100\n",
      "\u001b[1m4002/4002\u001b[0m \u001b[32m━━━━━━━━━━━━━━━━━━━━\u001b[0m\u001b[37m\u001b[0m \u001b[1m27s\u001b[0m 7ms/step - accuracy: 0.6268 - loss: 1.0236 - val_accuracy: 0.6417 - val_loss: 0.9822\n",
      "Epoch 3/100\n",
      "\u001b[1m4002/4002\u001b[0m \u001b[32m━━━━━━━━━━━━━━━━━━━━\u001b[0m\u001b[37m\u001b[0m \u001b[1m34s\u001b[0m 8ms/step - accuracy: 0.6345 - loss: 1.0102 - val_accuracy: 0.6448 - val_loss: 0.9726\n",
      "Epoch 4/100\n",
      "\u001b[1m4002/4002\u001b[0m \u001b[32m━━━━━━━━━━━━━━━━━━━━\u001b[0m\u001b[37m\u001b[0m \u001b[1m28s\u001b[0m 7ms/step - accuracy: 0.6388 - loss: 0.9977 - val_accuracy: 0.6443 - val_loss: 0.9697\n",
      "Epoch 5/100\n",
      "\u001b[1m4002/4002\u001b[0m \u001b[32m━━━━━━━━━━━━━━━━━━━━\u001b[0m\u001b[37m\u001b[0m \u001b[1m30s\u001b[0m 8ms/step - accuracy: 0.6413 - loss: 0.9912 - val_accuracy: 0.6431 - val_loss: 0.9680\n",
      "Epoch 6/100\n",
      "\u001b[1m4002/4002\u001b[0m \u001b[32m━━━━━━━━━━━━━━━━━━━━\u001b[0m\u001b[37m\u001b[0m \u001b[1m12s\u001b[0m 3ms/step - accuracy: 0.6401 - loss: 0.9918 - val_accuracy: 0.6441 - val_loss: 0.9635\n",
      "Epoch 7/100\n",
      "\u001b[1m4002/4002\u001b[0m \u001b[32m━━━━━━━━━━━━━━━━━━━━\u001b[0m\u001b[37m\u001b[0m \u001b[1m37s\u001b[0m 9ms/step - accuracy: 0.6377 - loss: 0.9939 - val_accuracy: 0.6465 - val_loss: 0.9589\n",
      "Epoch 8/100\n",
      "\u001b[1m4002/4002\u001b[0m \u001b[32m━━━━━━━━━━━━━━━━━━━━\u001b[0m\u001b[37m\u001b[0m \u001b[1m11s\u001b[0m 3ms/step - accuracy: 0.6410 - loss: 0.9867 - val_accuracy: 0.6461 - val_loss: 0.9628\n",
      "Epoch 9/100\n",
      "\u001b[1m4002/4002\u001b[0m \u001b[32m━━━━━━━━━━━━━━━━━━━━\u001b[0m\u001b[37m\u001b[0m \u001b[1m24s\u001b[0m 6ms/step - accuracy: 0.6398 - loss: 0.9862 - val_accuracy: 0.6462 - val_loss: 0.9567\n",
      "Epoch 10/100\n",
      "\u001b[1m4002/4002\u001b[0m \u001b[32m━━━━━━━━━━━━━━━━━━━━\u001b[0m\u001b[37m\u001b[0m \u001b[1m32s\u001b[0m 8ms/step - accuracy: 0.6387 - loss: 0.9892 - val_accuracy: 0.6480 - val_loss: 0.9569\n",
      "Epoch 11/100\n",
      "\u001b[1m4002/4002\u001b[0m \u001b[32m━━━━━━━━━━━━━━━━━━━━\u001b[0m\u001b[37m\u001b[0m \u001b[1m30s\u001b[0m 8ms/step - accuracy: 0.6429 - loss: 0.9840 - val_accuracy: 0.6457 - val_loss: 0.9559\n",
      "Epoch 12/100\n",
      "\u001b[1m4002/4002\u001b[0m \u001b[32m━━━━━━━━━━━━━━━━━━━━\u001b[0m\u001b[37m\u001b[0m \u001b[1m39s\u001b[0m 10ms/step - accuracy: 0.6412 - loss: 0.9827 - val_accuracy: 0.6473 - val_loss: 0.9563\n",
      "Epoch 13/100\n",
      "\u001b[1m4002/4002\u001b[0m \u001b[32m━━━━━━━━━━━━━━━━━━━━\u001b[0m\u001b[37m\u001b[0m \u001b[1m40s\u001b[0m 10ms/step - accuracy: 0.6433 - loss: 0.9852 - val_accuracy: 0.6469 - val_loss: 0.9527\n",
      "Epoch 14/100\n",
      "\u001b[1m4002/4002\u001b[0m \u001b[32m━━━━━━━━━━━━━━━━━━━━\u001b[0m\u001b[37m\u001b[0m \u001b[1m68s\u001b[0m 17ms/step - accuracy: 0.6437 - loss: 0.9781 - val_accuracy: 0.6486 - val_loss: 0.9604\n",
      "Epoch 15/100\n",
      "\u001b[1m4002/4002\u001b[0m \u001b[32m━━━━━━━━━━━━━━━━━━━━\u001b[0m\u001b[37m\u001b[0m \u001b[1m91s\u001b[0m 19ms/step - accuracy: 0.6409 - loss: 0.9847 - val_accuracy: 0.6471 - val_loss: 0.9543\n",
      "Epoch 16/100\n",
      "\u001b[1m4002/4002\u001b[0m \u001b[32m━━━━━━━━━━━━━━━━━━━━\u001b[0m\u001b[37m\u001b[0m \u001b[1m48s\u001b[0m 12ms/step - accuracy: 0.6418 - loss: 0.9806 - val_accuracy: 0.6469 - val_loss: 0.9557\n",
      "Epoch 17/100\n",
      "\u001b[1m4002/4002\u001b[0m \u001b[32m━━━━━━━━━━━━━━━━━━━━\u001b[0m\u001b[37m\u001b[0m \u001b[1m50s\u001b[0m 12ms/step - accuracy: 0.6438 - loss: 0.9767 - val_accuracy: 0.6473 - val_loss: 0.9540\n",
      "Epoch 18/100\n",
      "\u001b[1m4002/4002\u001b[0m \u001b[32m━━━━━━━━━━━━━━━━━━━━\u001b[0m\u001b[37m\u001b[0m \u001b[1m51s\u001b[0m 13ms/step - accuracy: 0.6406 - loss: 0.9816 - val_accuracy: 0.6480 - val_loss: 0.9492\n",
      "Epoch 19/100\n",
      "\u001b[1m4002/4002\u001b[0m \u001b[32m━━━━━━━━━━━━━━━━━━━━\u001b[0m\u001b[37m\u001b[0m \u001b[1m87s\u001b[0m 22ms/step - accuracy: 0.6450 - loss: 0.9778 - val_accuracy: 0.6462 - val_loss: 0.9555\n",
      "Epoch 20/100\n",
      "\u001b[1m4002/4002\u001b[0m \u001b[32m━━━━━━━━━━━━━━━━━━━━\u001b[0m\u001b[37m\u001b[0m \u001b[1m39s\u001b[0m 10ms/step - accuracy: 0.6404 - loss: 0.9833 - val_accuracy: 0.6456 - val_loss: 0.9524\n",
      "Epoch 21/100\n",
      "\u001b[1m4002/4002\u001b[0m \u001b[32m━━━━━━━━━━━━━━━━━━━━\u001b[0m\u001b[37m\u001b[0m \u001b[1m40s\u001b[0m 10ms/step - accuracy: 0.6401 - loss: 0.9798 - val_accuracy: 0.6454 - val_loss: 0.9508\n",
      "Epoch 22/100\n",
      "\u001b[1m4002/4002\u001b[0m \u001b[32m━━━━━━━━━━━━━━━━━━━━\u001b[0m\u001b[37m\u001b[0m \u001b[1m38s\u001b[0m 10ms/step - accuracy: 0.6415 - loss: 0.9806 - val_accuracy: 0.6441 - val_loss: 0.9539\n",
      "Epoch 23/100\n",
      "\u001b[1m4002/4002\u001b[0m \u001b[32m━━━━━━━━━━━━━━━━━━━━\u001b[0m\u001b[37m\u001b[0m \u001b[1m61s\u001b[0m 15ms/step - accuracy: 0.6369 - loss: 0.9836 - val_accuracy: 0.6456 - val_loss: 0.9543\n",
      "\u001b[1m1251/1251\u001b[0m \u001b[32m━━━━━━━━━━━━━━━━━━━━\u001b[0m\u001b[37m\u001b[0m \u001b[1m8s\u001b[0m 6ms/step - accuracy: 0.6516 - loss: 0.9474\n",
      "\u001b[1m1251/1251\u001b[0m \u001b[32m━━━━━━━━━━━━━━━━━━━━\u001b[0m\u001b[37m\u001b[0m \u001b[1m17s\u001b[0m 13ms/step\n",
      "Test Accuracy: 0.6497750878334045\n",
      "              precision    recall  f1-score   support\n",
      "\n",
      "       drink       0.73      0.20      0.31      3094\n",
      "        food       0.63      0.97      0.77     21739\n",
      "      inside       0.72      0.31      0.43     11132\n",
      "        menu       0.64      0.32      0.43       335\n",
      "     outside       0.77      0.21      0.33      3720\n",
      "\n",
      "    accuracy                           0.65     40020\n",
      "   macro avg       0.70      0.40      0.45     40020\n",
      "weighted avg       0.68      0.65      0.59     40020\n",
      "\n"
     ]
    }
   ],
   "source": [
    "# Import necessary libraries\n",
    "import numpy as np\n",
    "import pandas as pd\n",
    "import tensorflow as tf\n",
    "from tensorflow.keras.models import Sequential\n",
    "from tensorflow.keras.layers import Dense, Dropout\n",
    "from tensorflow.keras.regularizers import l2\n",
    "from sklearn.model_selection import train_test_split\n",
    "from sklearn.preprocessing import LabelEncoder\n",
    "from sklearn.metrics import classification_report, accuracy_score\n",
    "from sklearn.feature_extraction.text import TfidfVectorizer\n",
    "from tensorflow.keras.callbacks import EarlyStopping\n",
    "\n",
    "# Load your dataset from JSON\n",
    "data = pd.read_json('photos.json', lines=True)\n",
    "\n",
    "# Check the dataset structure\n",
    "print(data.head())\n",
    "\n",
    "# Use TF-IDF to transform the 'caption' text column into numeric features\n",
    "tfidf = TfidfVectorizer(max_features=1000)  # Increase max_features to capture more information\n",
    "X = tfidf.fit_transform(data['caption'].fillna('')).toarray()  # Convert text to numeric form\n",
    "\n",
    "# Encode the 'label' column to numeric values\n",
    "label_encoder = LabelEncoder()\n",
    "y = label_encoder.fit_transform(data['label'].fillna(''))  # Encoding categorical labels\n",
    "\n",
    "# Split into train and test sets\n",
    "X_train, X_test, y_train, y_test = train_test_split(X, y, test_size=0.2, random_state=42)\n",
    "\n",
    "# Build your deep learning model\n",
    "model = Sequential()\n",
    "\n",
    "# Add L2 regularization and dropout\n",
    "model.add(Dense(256, activation='relu', input_shape=(X_train.shape[1],),\n",
    "                kernel_regularizer=l2(0.001)))  # L2 regularization with lambda=0.001\n",
    "model.add(Dropout(0.5))  # Dropout to prevent overfitting\n",
    "\n",
    "model.add(Dense(128, activation='relu', kernel_regularizer=l2(0.001)))  # L2 regularization\n",
    "model.add(Dropout(0.5))\n",
    "\n",
    "model.add(Dense(64, activation='relu', kernel_regularizer=l2(0.001)))  # L2 regularization\n",
    "model.add(Dropout(0.3))\n",
    "\n",
    "# Output layer for multiclass classification\n",
    "model.add(Dense(len(np.unique(y)), activation='softmax'))\n",
    "\n",
    "# Compile the model (categorical_crossentropy for multiclass classification)\n",
    "model.compile(optimizer='adam', loss='sparse_categorical_crossentropy', metrics=['accuracy'])\n",
    "\n",
    "# Implement Early Stopping to stop training if the model stops improving\n",
    "early_stopping = EarlyStopping(monitor='val_loss', patience=5, restore_best_weights=True)\n",
    "\n",
    "# Train the model\n",
    "history = model.fit(X_train, y_train, epochs=100, batch_size=32, validation_split=0.2, callbacks=[early_stopping])\n",
    "\n",
    "# Evaluate the model\n",
    "test_loss, test_acc = model.evaluate(X_test, y_test)\n",
    "\n",
    "# Make predictions\n",
    "y_pred = model.predict(X_test)\n",
    "y_pred_classes = np.argmax(y_pred, axis=1)\n",
    "\n",
    "# Print the results\n",
    "print(f\"Test Accuracy: {test_acc}\")\n",
    "print(classification_report(y_test, y_pred_classes, target_names=label_encoder.classes_))\n",
    "\n"
   ]
  },
  {
   "cell_type": "markdown",
   "id": "103db565",
   "metadata": {},
   "source": [
    "* L2 regularization (kernel_regularizer=l2(0.001)) prevents overfitting by penalizing large weights. *\n",
    "* The combination of L2 and dropout improves the model’s generalization ability *"
   ]
  },
  {
   "cell_type": "code",
   "execution_count": 30,
   "id": "69fb4328",
   "metadata": {},
   "outputs": [],
   "source": [
    "\n"
   ]
  },
  {
   "cell_type": "code",
   "execution_count": 26,
   "id": "f36ab3f2",
   "metadata": {},
   "outputs": [
    {
     "data": {
      "text/html": [
       "<style>#sk-container-id-1 {color: black;}#sk-container-id-1 pre{padding: 0;}#sk-container-id-1 div.sk-toggleable {background-color: white;}#sk-container-id-1 label.sk-toggleable__label {cursor: pointer;display: block;width: 100%;margin-bottom: 0;padding: 0.3em;box-sizing: border-box;text-align: center;}#sk-container-id-1 label.sk-toggleable__label-arrow:before {content: \"▸\";float: left;margin-right: 0.25em;color: #696969;}#sk-container-id-1 label.sk-toggleable__label-arrow:hover:before {color: black;}#sk-container-id-1 div.sk-estimator:hover label.sk-toggleable__label-arrow:before {color: black;}#sk-container-id-1 div.sk-toggleable__content {max-height: 0;max-width: 0;overflow: hidden;text-align: left;background-color: #f0f8ff;}#sk-container-id-1 div.sk-toggleable__content pre {margin: 0.2em;color: black;border-radius: 0.25em;background-color: #f0f8ff;}#sk-container-id-1 input.sk-toggleable__control:checked~div.sk-toggleable__content {max-height: 200px;max-width: 100%;overflow: auto;}#sk-container-id-1 input.sk-toggleable__control:checked~label.sk-toggleable__label-arrow:before {content: \"▾\";}#sk-container-id-1 div.sk-estimator input.sk-toggleable__control:checked~label.sk-toggleable__label {background-color: #d4ebff;}#sk-container-id-1 div.sk-label input.sk-toggleable__control:checked~label.sk-toggleable__label {background-color: #d4ebff;}#sk-container-id-1 input.sk-hidden--visually {border: 0;clip: rect(1px 1px 1px 1px);clip: rect(1px, 1px, 1px, 1px);height: 1px;margin: -1px;overflow: hidden;padding: 0;position: absolute;width: 1px;}#sk-container-id-1 div.sk-estimator {font-family: monospace;background-color: #f0f8ff;border: 1px dotted black;border-radius: 0.25em;box-sizing: border-box;margin-bottom: 0.5em;}#sk-container-id-1 div.sk-estimator:hover {background-color: #d4ebff;}#sk-container-id-1 div.sk-parallel-item::after {content: \"\";width: 100%;border-bottom: 1px solid gray;flex-grow: 1;}#sk-container-id-1 div.sk-label:hover label.sk-toggleable__label {background-color: #d4ebff;}#sk-container-id-1 div.sk-serial::before {content: \"\";position: absolute;border-left: 1px solid gray;box-sizing: border-box;top: 0;bottom: 0;left: 50%;z-index: 0;}#sk-container-id-1 div.sk-serial {display: flex;flex-direction: column;align-items: center;background-color: white;padding-right: 0.2em;padding-left: 0.2em;position: relative;}#sk-container-id-1 div.sk-item {position: relative;z-index: 1;}#sk-container-id-1 div.sk-parallel {display: flex;align-items: stretch;justify-content: center;background-color: white;position: relative;}#sk-container-id-1 div.sk-item::before, #sk-container-id-1 div.sk-parallel-item::before {content: \"\";position: absolute;border-left: 1px solid gray;box-sizing: border-box;top: 0;bottom: 0;left: 50%;z-index: -1;}#sk-container-id-1 div.sk-parallel-item {display: flex;flex-direction: column;z-index: 1;position: relative;background-color: white;}#sk-container-id-1 div.sk-parallel-item:first-child::after {align-self: flex-end;width: 50%;}#sk-container-id-1 div.sk-parallel-item:last-child::after {align-self: flex-start;width: 50%;}#sk-container-id-1 div.sk-parallel-item:only-child::after {width: 0;}#sk-container-id-1 div.sk-dashed-wrapped {border: 1px dashed gray;margin: 0 0.4em 0.5em 0.4em;box-sizing: border-box;padding-bottom: 0.4em;background-color: white;}#sk-container-id-1 div.sk-label label {font-family: monospace;font-weight: bold;display: inline-block;line-height: 1.2em;}#sk-container-id-1 div.sk-label-container {text-align: center;}#sk-container-id-1 div.sk-container {/* jupyter's `normalize.less` sets `[hidden] { display: none; }` but bootstrap.min.css set `[hidden] { display: none !important; }` so we also need the `!important` here to be able to override the default hidden behavior on the sphinx rendered scikit-learn.org. See: https://github.com/scikit-learn/scikit-learn/issues/21755 */display: inline-block !important;position: relative;}#sk-container-id-1 div.sk-text-repr-fallback {display: none;}</style><div id=\"sk-container-id-1\" class=\"sk-top-container\"><div class=\"sk-text-repr-fallback\"><pre>OneHotEncoder(sparse_output=False)</pre><b>In a Jupyter environment, please rerun this cell to show the HTML representation or trust the notebook. <br />On GitHub, the HTML representation is unable to render, please try loading this page with nbviewer.org.</b></div><div class=\"sk-container\" hidden><div class=\"sk-item\"><div class=\"sk-estimator sk-toggleable\"><input class=\"sk-toggleable__control sk-hidden--visually\" id=\"sk-estimator-id-1\" type=\"checkbox\" checked><label for=\"sk-estimator-id-1\" class=\"sk-toggleable__label sk-toggleable__label-arrow\">OneHotEncoder</label><div class=\"sk-toggleable__content\"><pre>OneHotEncoder(sparse_output=False)</pre></div></div></div></div></div>"
      ],
      "text/plain": [
       "OneHotEncoder(sparse_output=False)"
      ]
     },
     "execution_count": 26,
     "metadata": {},
     "output_type": "execute_result"
    }
   ],
   "source": [
    "# Import the necessary library\n",
    "from sklearn.preprocessing import OneHotEncoder\n",
    "\n",
    "# Reshape the label column\n",
    "labels = df['label'].values.reshape(-1, 1)\n",
    "\n",
    "# Initialize and fit the encoder\n",
    "onehot_encoder = OneHotEncoder(sparse_output=False)  # Use sparse_output instead of sparse\n",
    "onehot_encoder.fit(labels)\n"
   ]
  },
  {
   "cell_type": "code",
   "execution_count": 27,
   "id": "6c4e26ac",
   "metadata": {},
   "outputs": [
    {
     "data": {
      "text/plain": [
       "['onehot_encoder.pkl']"
      ]
     },
     "execution_count": 27,
     "metadata": {},
     "output_type": "execute_result"
    }
   ],
   "source": [
    "import joblib\n",
    "joblib.dump(onehot_encoder, 'onehot_encoder.pkl')"
   ]
  },
  {
   "cell_type": "code",
   "execution_count": 28,
   "id": "ea13e3f2",
   "metadata": {},
   "outputs": [
    {
     "name": "stdout",
     "output_type": "stream",
     "text": [
      "\u001b[1m1251/1251\u001b[0m \u001b[32m━━━━━━━━━━━━━━━━━━━━\u001b[0m\u001b[37m\u001b[0m \u001b[1m9s\u001b[0m 7ms/step\n"
     ]
    }
   ],
   "source": [
    "# Make predictions\n",
    "y_predict = model.predict(X_test)\n",
    "\n",
    "# Convert predictions to class labels\n",
    "y_predict_classes = tf.argmax(y_predict, axis=1).numpy()\n"
   ]
  },
  {
   "cell_type": "code",
   "execution_count": 29,
   "id": "15a5024c",
   "metadata": {},
   "outputs": [],
   "source": [
    "y_pred = np.argmax(y_predict, axis=1)"
   ]
  },
  {
   "cell_type": "code",
   "execution_count": 30,
   "id": "8a3cff39",
   "metadata": {},
   "outputs": [],
   "source": [
    "model.save('jashanfinal_model.keras')"
   ]
  },
  {
   "cell_type": "code",
   "execution_count": 31,
   "id": "e5106713",
   "metadata": {},
   "outputs": [],
   "source": [
    "from tensorflow.keras.preprocessing.image import load_img, img_to_array\n",
    "import numpy as np\n",
    "import tensorflow as tf\n",
    "import joblib\n"
   ]
  },
  {
   "cell_type": "code",
   "execution_count": 32,
   "id": "d8299399",
   "metadata": {},
   "outputs": [],
   "source": [
    "def predict_image_with_label_and_probability(model, image_path, onehot_encoder):\n",
    "    img = load_img(image_path, target_size=(128, 128)) \n",
    "    \n",
    "    img_array = img_to_array(img) / 255.0  \n",
    "    img_array = np.expand_dims(img_array, axis=0)\n",
    "    # Make prediction using the model\n",
    "    predictions = model.predict(img_array)\n",
    "    \n",
    "    predicted_class_index = np.argmax(predictions, axis=1)\n",
    "    \n",
    "    # Convert the numerical label back to the original label using the one-hot encoder\n",
    "    predicted_label = onehot_encoder.inverse_transform(predictions)\n",
    "\n",
    "    # Get the probability of the predicted class\n",
    "    predicted_probability = np.max(predictions)  \n",
    "\n",
    "    return predicted_label[0][0], predicted_probability"
   ]
  },
  {
   "cell_type": "code",
   "execution_count": 33,
   "id": "4362cca3",
   "metadata": {},
   "outputs": [],
   "source": [
    "from PIL import Image\n",
    "import numpy as np\n",
    "import tensorflow as tf\n",
    "\n",
    "def preprocess_image(image_path, target_size=(128, 128)):\n",
    "    # Open and resize the image\n",
    "    img = Image.open(image_path)\n",
    "    img = img.resize(target_size)\n",
    "    \n",
    "    # Convert the image to a numpy array\n",
    "    img_array = np.array(img)\n",
    "    \n",
    "    # Normalize the pixel values (0-1)\n",
    "    img_array = img_array / 255.0\n",
    "    \n",
    "    # Ensure the array has the shape (1, 128, 128, 3)\n",
    "    img_array = np.expand_dims(img_array, axis=0)\n",
    "    \n",
    "    return img_array\n",
    "\n",
    "# Use this function to preprocess your image\n",
    "image_path = r\"C:\\Users\\jasha\\Downloads\\--3JQ4MlO-jHT9xbo7liug.jpg\"\n",
    "img_array = preprocess_image(image_path)\n"
   ]
  },
  {
   "cell_type": "code",
   "execution_count": 34,
   "id": "b2dedac8",
   "metadata": {},
   "outputs": [],
   "source": [
    "def predict_image_with_label_and_probability(model, image_path, onehot_encoder):\n",
    "    # Preprocess the image\n",
    "    img_array = preprocess_image(image_path)\n",
    "    \n",
    "    # Make prediction using the model\n",
    "    predictions = model.predict(img_array)\n",
    "    \n",
    "    # Get the predicted class index (argmax)\n",
    "    predicted_class_index = np.argmax(predictions, axis=1)\n",
    "    \n",
    "    # Convert the numerical label back to the original label using the one-hot encoder\n",
    "    predicted_label = onehot_encoder.inverse_transform(predicted_class_index.reshape(-1, 1))[0][0]\n",
    "    \n",
    "    # Get the probability of the predicted class\n",
    "    predicted_probability = np.max(predictions)\n",
    "    \n",
    "    return predicted_label, predicted_probability\n"
   ]
  },
  {
   "cell_type": "code",
   "execution_count": 35,
   "id": "ba832f1b",
   "metadata": {},
   "outputs": [
    {
     "name": "stdout",
     "output_type": "stream",
     "text": [
      "(None, 1000)\n"
     ]
    }
   ],
   "source": [
    "print(model.input_shape)  # Should print something like (None, 128, 128, 3)\n"
   ]
  },
  {
   "cell_type": "code",
   "execution_count": 36,
   "id": "d676fe45",
   "metadata": {},
   "outputs": [],
   "source": [
    "model = tf.keras.models.load_model(r'C:\\Users\\jasha\\OneDrive\\Desktop\\Deeplearning_DNN\\jashanfinal_model.keras')\n"
   ]
  },
  {
   "cell_type": "code",
   "execution_count": 37,
   "id": "f57ea8ab",
   "metadata": {},
   "outputs": [],
   "source": [
    "# Preprocess the image\n",
    "def preprocess_image(image_path, target_size=(32, 32)):\n",
    "    # Open the image\n",
    "    img = Image.open(image_path)\n",
    "    \n",
    "    # Resize the image to the target size (32x32 in this case)\n",
    "    img = img.resize(target_size)\n",
    "    \n",
    "    # Convert the image to a numpy array\n",
    "    img_array = np.array(img)\n",
    "    \n",
    "    # Normalize the pixel values (convert to float32 and scale to [0, 1])\n",
    "    img_array = img_array.astype('float32') / 255.0\n",
    "    \n",
    "    # Flatten the image to a 1D array of size 1024 (or close to 1000)\n",
    "    img_array = img_array.flatten()\n",
    "    \n",
    "    # Ensure the array has the shape (1, 1000)\n",
    "    img_array = img_array[:1000]  # Adjust the size if needed to match 1000\n",
    "    img_array = np.expand_dims(img_array, axis=0)  # Add batch dimension\n",
    "    \n",
    "    return img_array\n"
   ]
  },
  {
   "cell_type": "markdown",
   "id": "b62366f8",
   "metadata": {},
   "source": [
    "prediction code"
   ]
  },
  {
   "cell_type": "code",
   "execution_count": 38,
   "id": "099748b0",
   "metadata": {},
   "outputs": [
    {
     "name": "stdout",
     "output_type": "stream",
     "text": [
      "\u001b[1m1/1\u001b[0m \u001b[32m━━━━━━━━━━━━━━━━━━━━\u001b[0m\u001b[37m\u001b[0m \u001b[1m0s\u001b[0m 59ms/step\n",
      "Predicted Label: outside\n",
      "Probability of Predicted Label: 1.0000\n"
     ]
    }
   ],
   "source": [
    "import joblib\n",
    "import tensorflow as tf\n",
    "from PIL import Image\n",
    "import numpy as np\n",
    "\n",
    "# Preprocess the image (flatten the image to match model input)\n",
    "def preprocess_image(image_path, target_size=(32, 32)):\n",
    "    # Open the image\n",
    "    img = Image.open(image_path)\n",
    "    \n",
    "    # Resize the image to the target size\n",
    "    img = img.resize(target_size)\n",
    "    \n",
    "    # Convert the image to a numpy array\n",
    "    img_array = np.array(img)\n",
    "    \n",
    "    # Normalize the pixel values (convert to float32 and scale to [0, 1])\n",
    "    img_array = img_array.astype('float32') / 255.0\n",
    "    \n",
    "    # Flatten the image to a 1D array\n",
    "    img_array = img_array.flatten()\n",
    "    \n",
    "    # Ensure the array has the shape (1, 1000)\n",
    "    img_array = img_array[:1000]  # In case the flattened size exceeds 1000\n",
    "    img_array = np.expand_dims(img_array, axis=0)  # Add batch dimension\n",
    "    \n",
    "    return img_array\n",
    "\n",
    "# Function to predict label and probability\n",
    "def predict_image_with_label_and_probability(model, image_path, class_labels):\n",
    "    # Preprocess the image\n",
    "    img_array = preprocess_image(image_path)\n",
    "    \n",
    "    # Make prediction using the model\n",
    "    predictions = model.predict(img_array)\n",
    "    \n",
    "    # Get the predicted class index (argmax)\n",
    "    predicted_class_index = np.argmax(predictions, axis=1)[0]\n",
    "    \n",
    "    # Convert the numerical label back to the original label using the class_labels\n",
    "    predicted_label = class_labels[predicted_class_index]\n",
    "    \n",
    "    # Get the probability of the predicted class\n",
    "    predicted_probability = np.max(predictions)\n",
    "    \n",
    "    return predicted_label, predicted_probability\n",
    "\n",
    "# Load the model\n",
    "model = tf.keras.models.load_model(r'C:\\Users\\jasha\\OneDrive\\Desktop\\Deeplearning_DNN\\jashanfinal_model.keras')\n",
    "\n",
    "# Define the class labels (corresponding to the one-hot encoding order)\n",
    "class_labels = ['inside', 'outside', 'drink', 'food', 'menu']\n",
    "\n",
    "# Predict the label and probability for the given image\n",
    "image_path = r\"C:\\Users\\jasha\\Downloads\\--3JQ4MlO-jHT9xbo7liug.jpg\"\n",
    "predicted_label, predicted_probability = predict_image_with_label_and_probability(model, image_path, class_labels)\n",
    "\n",
    "print(f\"Predicted Label: {predicted_label}\")\n",
    "print(f\"Probability of Predicted Label: {predicted_probability:.4f}\")\n"
   ]
  }
 ],
 "metadata": {
  "kernelspec": {
   "display_name": "base",
   "language": "python",
   "name": "python3"
  },
  "language_info": {
   "codemirror_mode": {
    "name": "ipython",
    "version": 3
   },
   "file_extension": ".py",
   "mimetype": "text/x-python",
   "name": "python",
   "nbconvert_exporter": "python",
   "pygments_lexer": "ipython3",
   "version": "3.11.5"
  }
 },
 "nbformat": 4,
 "nbformat_minor": 5
}
